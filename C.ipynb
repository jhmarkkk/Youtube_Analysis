{
 "cells": [
  {
   "cell_type": "markdown",
   "id": "d972e21e",
   "metadata": {},
   "source": [
    "<div style = \"color: Black; \n",
    "              display: fill;\n",
    "              border-radius: 20px;\n",
    "              background-color: #FF0000;\">\n",
    "    <h1 id = \"title\"\n",
    "        style = \"padding: 13px; \n",
    "                 text-align:center;\n",
    "                 color: White;\n",
    "                 font-size: 40px;\n",
    "                 font-weight: bold;\n",
    "                 font-family: Times New Roman;\">YouTube Video Analysis\n",
    "    </h1>\n",
    "</div>"
   ]
  },
  {
   "cell_type": "code",
   "execution_count": 1,
   "id": "de1bfbfc",
   "metadata": {},
   "outputs": [],
   "source": [
    "# Basic Libraries\n",
    "import numpy as np\n",
    "import pandas as pd\n",
    "import seaborn as sb\n",
    "import matplotlib.pyplot as plt # we only need pyplot\n",
    "import json\n",
    "\n",
    "from sklearn.linear_model import LinearRegression\n",
    "from sklearn.model_selection import train_test_split\n",
    "from sklearn.metrics import mean_squared_error\n",
    "\n",
    "sb.set() # set the default Seaborn style for graphics\n",
    "\n",
    "import plotly.express as px\n",
    "\n",
    "#Note to use tensorflow, install tensorflow, command: conda install tensorflow\n",
    "import tensorflow as tf\n",
    "import tensorflow.keras\n",
    "from tensorflow.keras.preprocessing import text, sequence\n",
    "\n",
    "#Extra\n",
    "import numpy as np\n",
    "import pandas as pd\n",
    "import collections\n",
    "from sklearn.feature_extraction.text import CountVectorizer\n",
    "from sklearn.naive_bayes import MultinomialNB\n",
    "from sklearn.model_selection import train_test_split\n",
    "from sklearn.metrics import accuracy_score"
   ]
  },
  {
   "cell_type": "code",
   "execution_count": 2,
   "id": "a2e55f2e",
   "metadata": {},
   "outputs": [
    {
     "data": {
      "text/html": [
       "<div>\n",
       "<style scoped>\n",
       "    .dataframe tbody tr th:only-of-type {\n",
       "        vertical-align: middle;\n",
       "    }\n",
       "\n",
       "    .dataframe tbody tr th {\n",
       "        vertical-align: top;\n",
       "    }\n",
       "\n",
       "    .dataframe thead th {\n",
       "        text-align: right;\n",
       "    }\n",
       "</style>\n",
       "<table border=\"1\" class=\"dataframe\">\n",
       "  <thead>\n",
       "    <tr style=\"text-align: right;\">\n",
       "      <th></th>\n",
       "      <th>id</th>\n",
       "      <th>publishedAt</th>\n",
       "      <th>channelId</th>\n",
       "      <th>title</th>\n",
       "      <th>description</th>\n",
       "      <th>channelTitle</th>\n",
       "      <th>categoryId</th>\n",
       "      <th>liveBroadcastContent</th>\n",
       "      <th>duration</th>\n",
       "      <th>dimension</th>\n",
       "      <th>definition</th>\n",
       "      <th>caption</th>\n",
       "      <th>viewCount</th>\n",
       "      <th>likeCount</th>\n",
       "      <th>commentCount</th>\n",
       "      <th>Trending</th>\n",
       "    </tr>\n",
       "  </thead>\n",
       "  <tbody>\n",
       "    <tr>\n",
       "      <th>0</th>\n",
       "      <td>x5PLPJJy_fI</td>\n",
       "      <td>2023-03-26T12:58:39Z</td>\n",
       "      <td>UCiormkBf3jm6mfb7k0yPbKA</td>\n",
       "      <td>Eduard Folayang vs. Amir Khan | Full Fight Fro...</td>\n",
       "      <td>Flash🔙 to the thrilling ONE Lightweight World ...</td>\n",
       "      <td>ONE Championship</td>\n",
       "      <td>17</td>\n",
       "      <td>0</td>\n",
       "      <td>PT24M55S</td>\n",
       "      <td>2d</td>\n",
       "      <td>hd</td>\n",
       "      <td>False</td>\n",
       "      <td>119213</td>\n",
       "      <td>985</td>\n",
       "      <td>35</td>\n",
       "      <td>0</td>\n",
       "    </tr>\n",
       "    <tr>\n",
       "      <th>1</th>\n",
       "      <td>zwKZdnzgotg</td>\n",
       "      <td>2023-03-26T17:00:06Z</td>\n",
       "      <td>UC9nxc-xiH1AnL9RGstfgurg</td>\n",
       "      <td>Blake Shelton's 10 Year Anniversary Afterparty...</td>\n",
       "      <td>Blake Shelton's 10 Year Anniversary Afterparty...</td>\n",
       "      <td>Blake Shelton</td>\n",
       "      <td>10</td>\n",
       "      <td>0</td>\n",
       "      <td>PT2M50S</td>\n",
       "      <td>2d</td>\n",
       "      <td>hd</td>\n",
       "      <td>False</td>\n",
       "      <td>None</td>\n",
       "      <td>551</td>\n",
       "      <td>31</td>\n",
       "      <td>0</td>\n",
       "    </tr>\n",
       "    <tr>\n",
       "      <th>2</th>\n",
       "      <td>vEw3dhAfCBA</td>\n",
       "      <td>2023-03-27T03:01:12Z</td>\n",
       "      <td>UCKwGZZMrhNYKzucCtTPY2Nw</td>\n",
       "      <td>Highlights | Sam Burns vs. Cam Young | WGC-Del...</td>\n",
       "      <td>In his Championship match in the 2023 World Go...</td>\n",
       "      <td>PGA TOUR</td>\n",
       "      <td>17</td>\n",
       "      <td>0</td>\n",
       "      <td>PT7M2S</td>\n",
       "      <td>2d</td>\n",
       "      <td>hd</td>\n",
       "      <td>False</td>\n",
       "      <td>32524</td>\n",
       "      <td>433</td>\n",
       "      <td>34</td>\n",
       "      <td>0</td>\n",
       "    </tr>\n",
       "    <tr>\n",
       "      <th>3</th>\n",
       "      <td>P7H1uXPCTd4</td>\n",
       "      <td>2023-03-26T22:00:08Z</td>\n",
       "      <td>UC1yBKRuGpC1tSM73A0ZjYjQ</td>\n",
       "      <td>The Happiest Country for the 6th Year in a Row...</td>\n",
       "      <td>Finland continues to maintain its top spot as ...</td>\n",
       "      <td>The Young Turks</td>\n",
       "      <td>25</td>\n",
       "      <td>0</td>\n",
       "      <td>PT10M34S</td>\n",
       "      <td>2d</td>\n",
       "      <td>hd</td>\n",
       "      <td>False</td>\n",
       "      <td>34255</td>\n",
       "      <td>2369</td>\n",
       "      <td>1498</td>\n",
       "      <td>0</td>\n",
       "    </tr>\n",
       "    <tr>\n",
       "      <th>4</th>\n",
       "      <td>UdTC-6JBUJ0</td>\n",
       "      <td>2023-03-24T22:00:08Z</td>\n",
       "      <td>UCRi0IkmY_JbqA7P5bk9L_Uw</td>\n",
       "      <td>UFOs over Paris 1999; The Leslie Kean Factor</td>\n",
       "      <td>In 1999 a wave of UFO sightings flooded Paris....</td>\n",
       "      <td>Project Bluebook</td>\n",
       "      <td>22</td>\n",
       "      <td>0</td>\n",
       "      <td>PT12M9S</td>\n",
       "      <td>2d</td>\n",
       "      <td>hd</td>\n",
       "      <td>False</td>\n",
       "      <td>357</td>\n",
       "      <td>33</td>\n",
       "      <td>10</td>\n",
       "      <td>0</td>\n",
       "    </tr>\n",
       "  </tbody>\n",
       "</table>\n",
       "</div>"
      ],
      "text/plain": [
       "            id           publishedAt                 channelId  \\\n",
       "0  x5PLPJJy_fI  2023-03-26T12:58:39Z  UCiormkBf3jm6mfb7k0yPbKA   \n",
       "1  zwKZdnzgotg  2023-03-26T17:00:06Z  UC9nxc-xiH1AnL9RGstfgurg   \n",
       "2  vEw3dhAfCBA  2023-03-27T03:01:12Z  UCKwGZZMrhNYKzucCtTPY2Nw   \n",
       "3  P7H1uXPCTd4  2023-03-26T22:00:08Z  UC1yBKRuGpC1tSM73A0ZjYjQ   \n",
       "4  UdTC-6JBUJ0  2023-03-24T22:00:08Z  UCRi0IkmY_JbqA7P5bk9L_Uw   \n",
       "\n",
       "                                               title  \\\n",
       "0  Eduard Folayang vs. Amir Khan | Full Fight Fro...   \n",
       "1  Blake Shelton's 10 Year Anniversary Afterparty...   \n",
       "2  Highlights | Sam Burns vs. Cam Young | WGC-Del...   \n",
       "3  The Happiest Country for the 6th Year in a Row...   \n",
       "4       UFOs over Paris 1999; The Leslie Kean Factor   \n",
       "\n",
       "                                         description      channelTitle  \\\n",
       "0  Flash🔙 to the thrilling ONE Lightweight World ...  ONE Championship   \n",
       "1  Blake Shelton's 10 Year Anniversary Afterparty...     Blake Shelton   \n",
       "2  In his Championship match in the 2023 World Go...          PGA TOUR   \n",
       "3  Finland continues to maintain its top spot as ...   The Young Turks   \n",
       "4  In 1999 a wave of UFO sightings flooded Paris....  Project Bluebook   \n",
       "\n",
       "   categoryId  liveBroadcastContent  duration dimension definition  caption  \\\n",
       "0          17                     0  PT24M55S        2d         hd    False   \n",
       "1          10                     0   PT2M50S        2d         hd    False   \n",
       "2          17                     0    PT7M2S        2d         hd    False   \n",
       "3          25                     0  PT10M34S        2d         hd    False   \n",
       "4          22                     0   PT12M9S        2d         hd    False   \n",
       "\n",
       "  viewCount likeCount commentCount  Trending  \n",
       "0    119213       985           35         0  \n",
       "1      None       551           31         0  \n",
       "2     32524       433           34         0  \n",
       "3     34255      2369         1498         0  \n",
       "4       357        33           10         0  "
      ]
     },
     "execution_count": 2,
     "metadata": {},
     "output_type": "execute_result"
    }
   ],
   "source": [
    "data = pd.read_csv('yt_dataset.csv')\n",
    "data.head()"
   ]
  },
  {
   "cell_type": "code",
   "execution_count": 3,
   "id": "134104f6",
   "metadata": {},
   "outputs": [],
   "source": [
    "# Counting function to count the number of text in the dataframe\n",
    "def count_words(data):\n",
    "    \n",
    "    word_counter = 0\n",
    "    \n",
    "    for texts in data[\"title\"]:\n",
    "        for words in texts:  \n",
    "            word_counter = word_counter + 1\n",
    "        \n",
    "    return word_counter"
   ]
  },
  {
   "cell_type": "code",
   "execution_count": 4,
   "id": "a880a173",
   "metadata": {},
   "outputs": [
    {
     "data": {
      "text/plain": [
       "167542"
      ]
     },
     "execution_count": 4,
     "metadata": {},
     "output_type": "execute_result"
    }
   ],
   "source": [
    "count_words(data)"
   ]
  },
  {
   "cell_type": "code",
   "execution_count": 5,
   "id": "d9b24701",
   "metadata": {},
   "outputs": [
    {
     "data": {
      "text/plain": [
       "(2888, 16)"
      ]
     },
     "execution_count": 5,
     "metadata": {},
     "output_type": "execute_result"
    }
   ],
   "source": [
    "data.shape"
   ]
  },
  {
   "cell_type": "code",
   "execution_count": 6,
   "id": "4d153e39",
   "metadata": {},
   "outputs": [
    {
     "data": {
      "text/plain": [
       "id                      object\n",
       "publishedAt             object\n",
       "channelId               object\n",
       "title                   object\n",
       "description             object\n",
       "channelTitle            object\n",
       "categoryId               int64\n",
       "liveBroadcastContent     int64\n",
       "duration                object\n",
       "dimension               object\n",
       "definition              object\n",
       "caption                   bool\n",
       "viewCount               object\n",
       "likeCount               object\n",
       "commentCount            object\n",
       "Trending                 int64\n",
       "dtype: object"
      ]
     },
     "execution_count": 6,
     "metadata": {},
     "output_type": "execute_result"
    }
   ],
   "source": [
    "data.dtypes"
   ]
  },
  {
   "cell_type": "code",
   "execution_count": 7,
   "id": "74d5a667",
   "metadata": {},
   "outputs": [
    {
     "data": {
      "text/html": [
       "<div>\n",
       "<style scoped>\n",
       "    .dataframe tbody tr th:only-of-type {\n",
       "        vertical-align: middle;\n",
       "    }\n",
       "\n",
       "    .dataframe tbody tr th {\n",
       "        vertical-align: top;\n",
       "    }\n",
       "\n",
       "    .dataframe thead th {\n",
       "        text-align: right;\n",
       "    }\n",
       "</style>\n",
       "<table border=\"1\" class=\"dataframe\">\n",
       "  <thead>\n",
       "    <tr style=\"text-align: right;\">\n",
       "      <th></th>\n",
       "      <th>id</th>\n",
       "      <th>publishedAt</th>\n",
       "      <th>channelId</th>\n",
       "      <th>title</th>\n",
       "      <th>description</th>\n",
       "      <th>channelTitle</th>\n",
       "      <th>categoryId</th>\n",
       "      <th>liveBroadcastContent</th>\n",
       "      <th>duration</th>\n",
       "      <th>dimension</th>\n",
       "      <th>definition</th>\n",
       "      <th>caption</th>\n",
       "      <th>viewCount</th>\n",
       "      <th>likeCount</th>\n",
       "      <th>commentCount</th>\n",
       "      <th>Trending</th>\n",
       "    </tr>\n",
       "  </thead>\n",
       "  <tbody>\n",
       "    <tr>\n",
       "      <th>0</th>\n",
       "      <td>x5PLPJJy_fI</td>\n",
       "      <td>2023-03-26T12:58:39Z</td>\n",
       "      <td>UCiormkBf3jm6mfb7k0yPbKA</td>\n",
       "      <td>Eduard Folayang vs. Amir Khan | Full Fight Fro...</td>\n",
       "      <td>Flash🔙 to the thrilling ONE Lightweight World ...</td>\n",
       "      <td>ONE Championship</td>\n",
       "      <td>17</td>\n",
       "      <td>0</td>\n",
       "      <td>PT24M55S</td>\n",
       "      <td>2d</td>\n",
       "      <td>hd</td>\n",
       "      <td>False</td>\n",
       "      <td>119213</td>\n",
       "      <td>985</td>\n",
       "      <td>35</td>\n",
       "      <td>0</td>\n",
       "    </tr>\n",
       "    <tr>\n",
       "      <th>1</th>\n",
       "      <td>zwKZdnzgotg</td>\n",
       "      <td>2023-03-26T17:00:06Z</td>\n",
       "      <td>UC9nxc-xiH1AnL9RGstfgurg</td>\n",
       "      <td>Blake Shelton's 10 Year Anniversary Afterparty...</td>\n",
       "      <td>Blake Shelton's 10 Year Anniversary Afterparty...</td>\n",
       "      <td>Blake Shelton</td>\n",
       "      <td>10</td>\n",
       "      <td>0</td>\n",
       "      <td>PT2M50S</td>\n",
       "      <td>2d</td>\n",
       "      <td>hd</td>\n",
       "      <td>False</td>\n",
       "      <td>None</td>\n",
       "      <td>551</td>\n",
       "      <td>31</td>\n",
       "      <td>0</td>\n",
       "    </tr>\n",
       "    <tr>\n",
       "      <th>2</th>\n",
       "      <td>vEw3dhAfCBA</td>\n",
       "      <td>2023-03-27T03:01:12Z</td>\n",
       "      <td>UCKwGZZMrhNYKzucCtTPY2Nw</td>\n",
       "      <td>Highlights | Sam Burns vs. Cam Young | WGC-Del...</td>\n",
       "      <td>In his Championship match in the 2023 World Go...</td>\n",
       "      <td>PGA TOUR</td>\n",
       "      <td>17</td>\n",
       "      <td>0</td>\n",
       "      <td>PT7M2S</td>\n",
       "      <td>2d</td>\n",
       "      <td>hd</td>\n",
       "      <td>False</td>\n",
       "      <td>32524</td>\n",
       "      <td>433</td>\n",
       "      <td>34</td>\n",
       "      <td>0</td>\n",
       "    </tr>\n",
       "  </tbody>\n",
       "</table>\n",
       "</div>"
      ],
      "text/plain": [
       "            id           publishedAt                 channelId  \\\n",
       "0  x5PLPJJy_fI  2023-03-26T12:58:39Z  UCiormkBf3jm6mfb7k0yPbKA   \n",
       "1  zwKZdnzgotg  2023-03-26T17:00:06Z  UC9nxc-xiH1AnL9RGstfgurg   \n",
       "2  vEw3dhAfCBA  2023-03-27T03:01:12Z  UCKwGZZMrhNYKzucCtTPY2Nw   \n",
       "\n",
       "                                               title  \\\n",
       "0  Eduard Folayang vs. Amir Khan | Full Fight Fro...   \n",
       "1  Blake Shelton's 10 Year Anniversary Afterparty...   \n",
       "2  Highlights | Sam Burns vs. Cam Young | WGC-Del...   \n",
       "\n",
       "                                         description      channelTitle  \\\n",
       "0  Flash🔙 to the thrilling ONE Lightweight World ...  ONE Championship   \n",
       "1  Blake Shelton's 10 Year Anniversary Afterparty...     Blake Shelton   \n",
       "2  In his Championship match in the 2023 World Go...          PGA TOUR   \n",
       "\n",
       "   categoryId  liveBroadcastContent  duration dimension definition  caption  \\\n",
       "0          17                     0  PT24M55S        2d         hd    False   \n",
       "1          10                     0   PT2M50S        2d         hd    False   \n",
       "2          17                     0    PT7M2S        2d         hd    False   \n",
       "\n",
       "  viewCount likeCount commentCount  Trending  \n",
       "0    119213       985           35         0  \n",
       "1      None       551           31         0  \n",
       "2     32524       433           34         0  "
      ]
     },
     "execution_count": 7,
     "metadata": {},
     "output_type": "execute_result"
    }
   ],
   "source": [
    "data.head(3)"
   ]
  },
  {
   "cell_type": "markdown",
   "id": "0acafd6d",
   "metadata": {},
   "source": [
    "<div style = \"color: Black; \n",
    "              display: fill;\n",
    "              border-radius: 15px;\n",
    "              background-color: #6abc1d;\">\n",
    "    <h2 id = \"top-10-categories\"\n",
    "        style = \"padding: 11px; \n",
    "                 text-align:center;\n",
    "                 color: White;\n",
    "                 font-size: 24px;\n",
    "                 font-weight: bold;\n",
    "                 font-family: Times New Roman;\">Top Posted Videos by Categories\n",
    "    </h2>\n",
    "</div>"
   ]
  },
  {
   "cell_type": "code",
   "execution_count": 8,
   "id": "727665d5",
   "metadata": {},
   "outputs": [],
   "source": [
    "main_data =pd.DataFrame(data[['title','categoryId','viewCount']])"
   ]
  },
  {
   "cell_type": "code",
   "execution_count": 9,
   "id": "88d2c5e7",
   "metadata": {},
   "outputs": [],
   "source": [
    "with open(\"category_id.json\") as f:\n",
    "    categories = json.load(f)[\"items\"]\n",
    "cat_dict = {}\n",
    "for cat in categories:\n",
    "    cat_dict[int(cat[\"id\"])] = cat[\"snippet\"][\"title\"]\n",
    "main_data['category_name'] = main_data['categoryId'].map(cat_dict)"
   ]
  },
  {
   "cell_type": "code",
   "execution_count": 10,
   "id": "81f28feb",
   "metadata": {},
   "outputs": [
    {
     "data": {
      "text/plain": [
       "Entertainment           618\n",
       "News & Politics         473\n",
       "Sports                  389\n",
       "Gaming                  368\n",
       "People & Blogs          219\n",
       "Music                   197\n",
       "Education               121\n",
       "Comedy                   95\n",
       "Film & Animation         94\n",
       "Movies                   79\n",
       "Autos & Vehicles         79\n",
       "Science & Technology     48\n",
       "Howto & Style            44\n",
       "Pets & Animals           17\n",
       "Travel & Events          14\n",
       "Shows                    13\n",
       "Name: category_name, dtype: int64"
      ]
     },
     "execution_count": 10,
     "metadata": {},
     "output_type": "execute_result"
    }
   ],
   "source": [
    "main_data['category_name'].value_counts()"
   ]
  },
  {
   "cell_type": "code",
   "execution_count": 11,
   "id": "c9495927",
   "metadata": {},
   "outputs": [
    {
     "data": {
      "image/png": "[encoded data removed]",
      "text/plain": [
       "<Figure size 1170x827 with 1 Axes>"
      ]
     },
     "metadata": {},
     "output_type": "display_data"
    }
   ],
   "source": [
    "sb.set(rc={'figure.figsize':(11.7,8.27)})\n",
    "sb.countplot(y = \"category_name\", data=main_data, order=main_data['category_name'].value_counts().index)\n",
    "plt.xlabel(\"Video Count\")\n",
    "plt.ylabel(\"Category Name\")\n",
    "plt.show()"
   ]
  },
  {
   "cell_type": "markdown",
   "id": "f603d932",
   "metadata": {},
   "source": [
    "**Displaying the Video count sorted by the categories, the top 3 categories are Entertainment, News & Politics and Sports**"
   ]
  },
  {
   "cell_type": "markdown",
   "id": "ef72ce92",
   "metadata": {},
   "source": [
    "<div style = \"color: Black; \n",
    "              display: fill;\n",
    "              border-radius: 15px;\n",
    "              background-color: #6abc1d;\">\n",
    "    <h2 id = \"top-10-categories\"\n",
    "        style = \"padding: 11px; \n",
    "                 text-align:center;\n",
    "                 color: White;\n",
    "                 font-size: 24px;\n",
    "                 font-weight: bold;\n",
    "                 font-family: Times New Roman;\">Top Trending Videos by Categories\n",
    "    </h2>\n",
    "</div>"
   ]
  },
  {
   "cell_type": "code",
   "execution_count": 12,
   "id": "d552cae5",
   "metadata": {},
   "outputs": [],
   "source": [
    "main_data=pd.DataFrame(data[['title','categoryId','viewCount','Trending']])"
   ]
  },
  {
   "cell_type": "code",
   "execution_count": 13,
   "id": "2309cc24",
   "metadata": {},
   "outputs": [],
   "source": [
    "not_trending=main_data.index[main_data[\"Trending\"]==0].tolist()"
   ]
  },
  {
   "cell_type": "code",
   "execution_count": 14,
   "id": "d497fd65",
   "metadata": {},
   "outputs": [],
   "source": [
    "trending=main_data.drop(main_data.index[not_trending])"
   ]
  },
  {
   "cell_type": "code",
   "execution_count": 15,
   "id": "b27fe7c0",
   "metadata": {},
   "outputs": [],
   "source": [
    "with open(\"category_id.json\") as f:\n",
    "    categories = json.load(f)[\"items\"]\n",
    "cat_dict = {}\n",
    "for cat in categories:\n",
    "    cat_dict[int(cat[\"id\"])] = cat[\"snippet\"][\"title\"]\n",
    "trending['category_name'] = trending['categoryId'].map(cat_dict)"
   ]
  },
  {
   "cell_type": "code",
   "execution_count": 16,
   "id": "ea040cf5",
   "metadata": {},
   "outputs": [
    {
     "data": {
      "text/plain": [
       "Gaming                  143\n",
       "Entertainment           134\n",
       "Music                   116\n",
       "Sports                   70\n",
       "People & Blogs           55\n",
       "Autos & Vehicles         49\n",
       "Comedy                   37\n",
       "Film & Animation         30\n",
       "News & Politics          18\n",
       "Education                18\n",
       "Science & Technology     16\n",
       "Howto & Style             9\n",
       "Pets & Animals            4\n",
       "Travel & Events           1\n",
       "Name: category_name, dtype: int64"
      ]
     },
     "execution_count": 16,
     "metadata": {},
     "output_type": "execute_result"
    }
   ],
   "source": [
    "trending['category_name'].value_counts()"
   ]
  },
  {
   "cell_type": "code",
   "execution_count": 17,
   "id": "6832b9af",
   "metadata": {
    "scrolled": false
   },
   "outputs": [
    {
     "data": {
      "image/png": "[encoded data removed]",
      "text/plain": [
       "<Figure size 1170x827 with 1 Axes>"
      ]
     },
     "metadata": {},
     "output_type": "display_data"
    }
   ],
   "source": [
    "sb.set(rc={'figure.figsize':(11.7,8.27)})\n",
    "sb.countplot(y = \"category_name\",data=trending, order=trending['category_name'].value_counts().index)\n",
    "plt.xlabel(\"Trending Video Count\")\n",
    "plt.ylabel(\"Category Name\")\n",
    "plt.show()"
   ]
  },
  {
   "cell_type": "markdown",
   "id": "12affb8d",
   "metadata": {},
   "source": [
    "**Displaying the Trending video count based on the categories, the top 3 categories are Gaming, Entertainment and Music.**"
   ]
  },
  {
   "cell_type": "markdown",
   "id": "5a771517",
   "metadata": {},
   "source": [
    "<div style = \"color: Black; \n",
    "              display: fill;\n",
    "              border-radius: 15px;\n",
    "              background-color: #6abc1d;\">\n",
    "    <h2 id = \"top-10-categories\"\n",
    "        style = \"padding: 11px; \n",
    "                 text-align:center;\n",
    "                 color: White;\n",
    "                 font-size: 24px;\n",
    "                 font-weight: bold;\n",
    "                 font-family: Times New Roman;\">Displaying Most Number of Posts By Hours\n",
    "    </h2>\n",
    "</div>"
   ]
  },
  {
   "cell_type": "code",
   "execution_count": 18,
   "id": "aa90d8fd",
   "metadata": {},
   "outputs": [],
   "source": [
    "import warnings\n",
    "warnings.simplefilter(action=\"ignore\", category=FutureWarning)"
   ]
  },
  {
   "cell_type": "code",
   "execution_count": 19,
   "id": "a0e15f58",
   "metadata": {},
   "outputs": [
    {
     "data": {
      "text/html": [
       "<div>\n",
       "<style scoped>\n",
       "    .dataframe tbody tr th:only-of-type {\n",
       "        vertical-align: middle;\n",
       "    }\n",
       "\n",
       "    .dataframe tbody tr th {\n",
       "        vertical-align: top;\n",
       "    }\n",
       "\n",
       "    .dataframe thead th {\n",
       "        text-align: right;\n",
       "    }\n",
       "</style>\n",
       "<table border=\"1\" class=\"dataframe\">\n",
       "  <thead>\n",
       "    <tr style=\"text-align: right;\">\n",
       "      <th></th>\n",
       "      <th>id</th>\n",
       "      <th>publishedAt</th>\n",
       "      <th>channelId</th>\n",
       "      <th>title</th>\n",
       "      <th>description</th>\n",
       "      <th>channelTitle</th>\n",
       "      <th>categoryId</th>\n",
       "      <th>liveBroadcastContent</th>\n",
       "      <th>duration</th>\n",
       "      <th>dimension</th>\n",
       "      <th>definition</th>\n",
       "      <th>caption</th>\n",
       "      <th>viewCount</th>\n",
       "      <th>likeCount</th>\n",
       "      <th>commentCount</th>\n",
       "      <th>Trending</th>\n",
       "    </tr>\n",
       "  </thead>\n",
       "  <tbody>\n",
       "    <tr>\n",
       "      <th>0</th>\n",
       "      <td>x5PLPJJy_fI</td>\n",
       "      <td>2023-03-26T12:58:39Z</td>\n",
       "      <td>UCiormkBf3jm6mfb7k0yPbKA</td>\n",
       "      <td>Eduard Folayang vs. Amir Khan | Full Fight Fro...</td>\n",
       "      <td>Flash🔙 to the thrilling ONE Lightweight World ...</td>\n",
       "      <td>ONE Championship</td>\n",
       "      <td>17</td>\n",
       "      <td>0</td>\n",
       "      <td>PT24M55S</td>\n",
       "      <td>2d</td>\n",
       "      <td>hd</td>\n",
       "      <td>False</td>\n",
       "      <td>119213</td>\n",
       "      <td>985</td>\n",
       "      <td>35</td>\n",
       "      <td>0</td>\n",
       "    </tr>\n",
       "    <tr>\n",
       "      <th>1</th>\n",
       "      <td>zwKZdnzgotg</td>\n",
       "      <td>2023-03-26T17:00:06Z</td>\n",
       "      <td>UC9nxc-xiH1AnL9RGstfgurg</td>\n",
       "      <td>Blake Shelton's 10 Year Anniversary Afterparty...</td>\n",
       "      <td>Blake Shelton's 10 Year Anniversary Afterparty...</td>\n",
       "      <td>Blake Shelton</td>\n",
       "      <td>10</td>\n",
       "      <td>0</td>\n",
       "      <td>PT2M50S</td>\n",
       "      <td>2d</td>\n",
       "      <td>hd</td>\n",
       "      <td>False</td>\n",
       "      <td>None</td>\n",
       "      <td>551</td>\n",
       "      <td>31</td>\n",
       "      <td>0</td>\n",
       "    </tr>\n",
       "    <tr>\n",
       "      <th>2</th>\n",
       "      <td>vEw3dhAfCBA</td>\n",
       "      <td>2023-03-27T03:01:12Z</td>\n",
       "      <td>UCKwGZZMrhNYKzucCtTPY2Nw</td>\n",
       "      <td>Highlights | Sam Burns vs. Cam Young | WGC-Del...</td>\n",
       "      <td>In his Championship match in the 2023 World Go...</td>\n",
       "      <td>PGA TOUR</td>\n",
       "      <td>17</td>\n",
       "      <td>0</td>\n",
       "      <td>PT7M2S</td>\n",
       "      <td>2d</td>\n",
       "      <td>hd</td>\n",
       "      <td>False</td>\n",
       "      <td>32524</td>\n",
       "      <td>433</td>\n",
       "      <td>34</td>\n",
       "      <td>0</td>\n",
       "    </tr>\n",
       "    <tr>\n",
       "      <th>3</th>\n",
       "      <td>P7H1uXPCTd4</td>\n",
       "      <td>2023-03-26T22:00:08Z</td>\n",
       "      <td>UC1yBKRuGpC1tSM73A0ZjYjQ</td>\n",
       "      <td>The Happiest Country for the 6th Year in a Row...</td>\n",
       "      <td>Finland continues to maintain its top spot as ...</td>\n",
       "      <td>The Young Turks</td>\n",
       "      <td>25</td>\n",
       "      <td>0</td>\n",
       "      <td>PT10M34S</td>\n",
       "      <td>2d</td>\n",
       "      <td>hd</td>\n",
       "      <td>False</td>\n",
       "      <td>34255</td>\n",
       "      <td>2369</td>\n",
       "      <td>1498</td>\n",
       "      <td>0</td>\n",
       "    </tr>\n",
       "    <tr>\n",
       "      <th>4</th>\n",
       "      <td>UdTC-6JBUJ0</td>\n",
       "      <td>2023-03-24T22:00:08Z</td>\n",
       "      <td>UCRi0IkmY_JbqA7P5bk9L_Uw</td>\n",
       "      <td>UFOs over Paris 1999; The Leslie Kean Factor</td>\n",
       "      <td>In 1999 a wave of UFO sightings flooded Paris....</td>\n",
       "      <td>Project Bluebook</td>\n",
       "      <td>22</td>\n",
       "      <td>0</td>\n",
       "      <td>PT12M9S</td>\n",
       "      <td>2d</td>\n",
       "      <td>hd</td>\n",
       "      <td>False</td>\n",
       "      <td>357</td>\n",
       "      <td>33</td>\n",
       "      <td>10</td>\n",
       "      <td>0</td>\n",
       "    </tr>\n",
       "  </tbody>\n",
       "</table>\n",
       "</div>"
      ],
      "text/plain": [
       "            id           publishedAt                 channelId  \\\n",
       "0  x5PLPJJy_fI  2023-03-26T12:58:39Z  UCiormkBf3jm6mfb7k0yPbKA   \n",
       "1  zwKZdnzgotg  2023-03-26T17:00:06Z  UC9nxc-xiH1AnL9RGstfgurg   \n",
       "2  vEw3dhAfCBA  2023-03-27T03:01:12Z  UCKwGZZMrhNYKzucCtTPY2Nw   \n",
       "3  P7H1uXPCTd4  2023-03-26T22:00:08Z  UC1yBKRuGpC1tSM73A0ZjYjQ   \n",
       "4  UdTC-6JBUJ0  2023-03-24T22:00:08Z  UCRi0IkmY_JbqA7P5bk9L_Uw   \n",
       "\n",
       "                                               title  \\\n",
       "0  Eduard Folayang vs. Amir Khan | Full Fight Fro...   \n",
       "1  Blake Shelton's 10 Year Anniversary Afterparty...   \n",
       "2  Highlights | Sam Burns vs. Cam Young | WGC-Del...   \n",
       "3  The Happiest Country for the 6th Year in a Row...   \n",
       "4       UFOs over Paris 1999; The Leslie Kean Factor   \n",
       "\n",
       "                                         description      channelTitle  \\\n",
       "0  Flash🔙 to the thrilling ONE Lightweight World ...  ONE Championship   \n",
       "1  Blake Shelton's 10 Year Anniversary Afterparty...     Blake Shelton   \n",
       "2  In his Championship match in the 2023 World Go...          PGA TOUR   \n",
       "3  Finland continues to maintain its top spot as ...   The Young Turks   \n",
       "4  In 1999 a wave of UFO sightings flooded Paris....  Project Bluebook   \n",
       "\n",
       "   categoryId  liveBroadcastContent  duration dimension definition  caption  \\\n",
       "0          17                     0  PT24M55S        2d         hd    False   \n",
       "1          10                     0   PT2M50S        2d         hd    False   \n",
       "2          17                     0    PT7M2S        2d         hd    False   \n",
       "3          25                     0  PT10M34S        2d         hd    False   \n",
       "4          22                     0   PT12M9S        2d         hd    False   \n",
       "\n",
       "  viewCount likeCount commentCount  Trending  \n",
       "0    119213       985           35         0  \n",
       "1      None       551           31         0  \n",
       "2     32524       433           34         0  \n",
       "3     34255      2369         1498         0  \n",
       "4       357        33           10         0  "
      ]
     },
     "execution_count": 19,
     "metadata": {},
     "output_type": "execute_result"
    }
   ],
   "source": [
    "data = pd.read_csv('yt_dataset.csv')\n",
    "data.head()"
   ]
  },
  {
   "cell_type": "code",
   "execution_count": 20,
   "id": "f7faabca",
   "metadata": {},
   "outputs": [],
   "source": [
    "dataT=pd.DataFrame(data[['publishedAt']])"
   ]
  },
  {
   "cell_type": "code",
   "execution_count": 21,
   "id": "b525e56f",
   "metadata": {},
   "outputs": [],
   "source": [
    "dataT['publishedAt'] = pd.to_datetime(dataT['publishedAt'], format='%Y-%m-%dT%H:%M:%S.%f%Z')"
   ]
  },
  {
   "cell_type": "code",
   "execution_count": 22,
   "id": "b9af5cf1",
   "metadata": {},
   "outputs": [],
   "source": [
    "# separates date and time into two columns from 'publishedAt' column\n",
    "dataT.insert(1, 'publish_date', dataT['publishedAt'].dt.date)\n",
    "dataT['publishedAt'] = dataT['publishedAt'].dt.time\n",
    "dataT[['hour','min','sec']] = dataT['publishedAt'].astype(str).str.split(':', expand=True).astype(int)"
   ]
  },
  {
   "cell_type": "code",
   "execution_count": 23,
   "id": "6c5e12ce",
   "metadata": {},
   "outputs": [
    {
     "name": "stdout",
     "output_type": "stream",
     "text": [
      "TOP 5 Hour values\n",
      "16    253\n",
      "15    243\n",
      "14    208\n",
      "4     185\n",
      "12    172\n",
      "Name: hour, dtype: int64\n"
     ]
    },
    {
     "ename": "TypeError",
     "evalue": "countplot() got multiple values for argument 'data'",
     "output_type": "error",
     "traceback": [
      "\u001b[1;31m---------------------------------------------------------------------------\u001b[0m",
      "\u001b[1;31mTypeError\u001b[0m                                 Traceback (most recent call last)",
      "Cell \u001b[1;32mIn[23], line 7\u001b[0m\n\u001b[0;32m      4\u001b[0m plt\u001b[38;5;241m.\u001b[39mfigure(figsize \u001b[38;5;241m=\u001b[39m (\u001b[38;5;241m14\u001b[39m,\u001b[38;5;241m9\u001b[39m))\n\u001b[0;32m      6\u001b[0m plt\u001b[38;5;241m.\u001b[39msubplot(\u001b[38;5;241m211\u001b[39m)\n\u001b[1;32m----> 7\u001b[0m g \u001b[38;5;241m=\u001b[39m \u001b[43msb\u001b[49m\u001b[38;5;241;43m.\u001b[39;49m\u001b[43mcountplot\u001b[49m\u001b[43m(\u001b[49m\u001b[38;5;124;43m'\u001b[39;49m\u001b[38;5;124;43mhour\u001b[39;49m\u001b[38;5;124;43m'\u001b[39;49m\u001b[43m,\u001b[49m\u001b[43m \u001b[49m\u001b[43mdata\u001b[49m\u001b[38;5;241;43m=\u001b[39;49m\u001b[43mdataT\u001b[49m\u001b[43m,\u001b[49m\u001b[43m \u001b[49m\u001b[43mpalette\u001b[49m\u001b[38;5;241;43m=\u001b[39;49m\u001b[38;5;124;43m\"\u001b[39;49m\u001b[38;5;124;43mSet1\u001b[39;49m\u001b[38;5;124;43m\"\u001b[39;49m\u001b[43m)\u001b[49m\n\u001b[0;32m      8\u001b[0m g\u001b[38;5;241m.\u001b[39mset_xticklabels(g\u001b[38;5;241m.\u001b[39mget_xticklabels(),rotation\u001b[38;5;241m=\u001b[39m\u001b[38;5;241m45\u001b[39m)\n\u001b[0;32m      9\u001b[0m g\u001b[38;5;241m.\u001b[39mset_title(\u001b[38;5;124m\"\u001b[39m\u001b[38;5;124mCounting Hour \u001b[39m\u001b[38;5;124m\"\u001b[39m, fontsize\u001b[38;5;241m=\u001b[39m\u001b[38;5;241m20\u001b[39m)\n",
      "\u001b[1;31mTypeError\u001b[0m: countplot() got multiple values for argument 'data'"
     ]
    },
    {
     "data": {
      "image/png": "[encoded data removed]",
      "text/plain": [
       "<Figure size 1400x900 with 1 Axes>"
      ]
     },
     "metadata": {},
     "output_type": "display_data"
    }
   ],
   "source": [
    "print(\"TOP 5 Hour values\")\n",
    "print(dataT['hour'].value_counts()[:5])\n",
    "\n",
    "plt.figure(figsize = (14,9))\n",
    "\n",
    "plt.subplot(211)\n",
    "g = sb.countplot('hour', data=dataT, palette=\"Set1\")\n",
    "g.set_xticklabels(g.get_xticklabels(),rotation=45)\n",
    "g.set_title(\"Counting Hour \", fontsize=20)\n",
    "g.set_xlabel(\"Hours\", fontsize=15)\n",
    "g.set_ylabel(\"Count\", fontsize=15)\n",
    "\n",
    "\n",
    "plt.show()"
   ]
  },
  {
   "cell_type": "markdown",
   "id": "dae04d01",
   "metadata": {},
   "source": [
    "**This portion shows the number of videos that are being posted based on the hour of the day for all the vidoes in the dataset.\n",
    "16 hours is the most popular but due to the time zone of UTC 16 hours is about 11 am in american timing.**"
   ]
  },
  {
   "cell_type": "markdown",
   "id": "6ad1843f",
   "metadata": {},
   "source": [
    "<div style = \"color: Black; \n",
    "              display: fill;\n",
    "              border-radius: 15px;\n",
    "              background-color: #6abc1d;\">\n",
    "    <h2 id = \"top-10-categories\"\n",
    "        style = \"padding: 11px; \n",
    "                 text-align:center;\n",
    "                 color: White;\n",
    "                 font-size: 24px;\n",
    "                 font-weight: bold;\n",
    "                 font-family: Times New Roman;\">Displaying Most Number of Posts By Hours For Trending Videos\n",
    "    </h2>\n",
    "</div>"
   ]
  },
  {
   "cell_type": "code",
   "execution_count": null,
   "id": "8fc0cb47",
   "metadata": {},
   "outputs": [],
   "source": [
    "data = pd.read_csv('yt_dataset.csv')\n",
    "data.head()"
   ]
  },
  {
   "cell_type": "code",
   "execution_count": null,
   "id": "87e98dfb",
   "metadata": {},
   "outputs": [],
   "source": [
    "dataT_Trending=pd.DataFrame(data[['publishedAt','Trending']])"
   ]
  },
  {
   "cell_type": "code",
   "execution_count": null,
   "id": "54bc1583",
   "metadata": {},
   "outputs": [],
   "source": [
    "dataT_Trending['publishedAt'] = pd.to_datetime(dataT_Trending['publishedAt'], format='%Y-%m-%dT%H:%M:%S.%f%Z')"
   ]
  },
  {
   "cell_type": "code",
   "execution_count": null,
   "id": "93663257",
   "metadata": {},
   "outputs": [],
   "source": [
    "not_trending=dataT_Trending.index[dataT_Trending[\"Trending\"]==0].tolist()"
   ]
  },
  {
   "cell_type": "code",
   "execution_count": null,
   "id": "92196ac5",
   "metadata": {},
   "outputs": [],
   "source": [
    "trending=dataT_Trending.drop(dataT_Trending.index[not_trending])"
   ]
  },
  {
   "cell_type": "code",
   "execution_count": null,
   "id": "599c4c60",
   "metadata": {},
   "outputs": [],
   "source": [
    "trending.head()"
   ]
  },
  {
   "cell_type": "code",
   "execution_count": null,
   "id": "ef284552",
   "metadata": {},
   "outputs": [],
   "source": [
    "# separates date and time into two columns from 'publishedAt' column\n",
    "trending.insert(1, 'publish_date', trending['publishedAt'].dt.date)\n",
    "trending['publishedAt'] = trending['publishedAt'].dt.time\n",
    "trending[['hour','min','sec']] = trending['publishedAt'].astype(str).str.split(':', expand=True).astype(int)"
   ]
  },
  {
   "cell_type": "code",
   "execution_count": null,
   "id": "ec2699f7",
   "metadata": {},
   "outputs": [],
   "source": [
    "print(\"TOP 5 Hour values\")\n",
    "print(trending['hour'].value_counts()[:5])\n",
    "\n",
    "plt.figure(figsize = (14,9))\n",
    "\n",
    "plt.subplot(211)\n",
    "g = sb.countplot('hour', data=trending, palette=\"Set1\")\n",
    "g.set_xticklabels(g.get_xticklabels(),rotation=45)\n",
    "g.set_title(\"Counting Hour \", fontsize=20)\n",
    "g.set_xlabel(\"Hours\", fontsize=15)\n",
    "g.set_ylabel(\"Count\", fontsize=15)\n",
    "\n",
    "\n",
    "plt.show()"
   ]
  },
  {
   "cell_type": "markdown",
   "id": "98e04943",
   "metadata": {},
   "source": [
    "**This portion shows the number of videos that are being posted based on the hour of the day for Trending Videos picked out by youtube. 14 hours is the most popular time, but in american time it is about 9 am.**"
   ]
  },
  {
   "cell_type": "markdown",
   "id": "e343b0a6",
   "metadata": {},
   "source": [
    "<div style = \"color: Black; \n",
    "              display: fill;\n",
    "              border-radius: 15px;\n",
    "              background-color: #6abc1d;\">\n",
    "    <h2 id = \"top-10-categories\"\n",
    "        style = \"padding: 11px; \n",
    "                 text-align:center;\n",
    "                 color: White;\n",
    "                 font-size: 24px;\n",
    "                 font-weight: bold;\n",
    "                 font-family: Times New Roman;\">Displaying Most Number of Posts By Day Of The Week For Total Videos\n",
    "    </h2>\n",
    "</div>"
   ]
  },
  {
   "cell_type": "code",
   "execution_count": null,
   "id": "780f97d7",
   "metadata": {},
   "outputs": [],
   "source": [
    "import warnings\n",
    "warnings.simplefilter(action=\"ignore\", category=FutureWarning)"
   ]
  },
  {
   "cell_type": "code",
   "execution_count": null,
   "id": "f1edfaa4",
   "metadata": {},
   "outputs": [],
   "source": [
    "from datetime import date"
   ]
  },
  {
   "cell_type": "code",
   "execution_count": null,
   "id": "ce8eab1e",
   "metadata": {},
   "outputs": [],
   "source": [
    "data = pd.read_csv('yt_dataset.csv')\n",
    "data.head()"
   ]
  },
  {
   "cell_type": "code",
   "execution_count": null,
   "id": "976bb71b",
   "metadata": {},
   "outputs": [],
   "source": [
    "dataT=pd.DataFrame(data[['publishedAt']])"
   ]
  },
  {
   "cell_type": "code",
   "execution_count": null,
   "id": "f8b90e1b",
   "metadata": {},
   "outputs": [],
   "source": [
    "dataT['publishedAt'] = pd.to_datetime(dataT['publishedAt'], format='%Y-%m-%dT%H:%M:%S.%f%Z')"
   ]
  },
  {
   "cell_type": "code",
   "execution_count": null,
   "id": "0412af78",
   "metadata": {},
   "outputs": [],
   "source": [
    "# separates date and time into two columns from 'publishedAt' column\n",
    "dataT.insert(1, 'publish_date', dataT['publishedAt'].dt.date)\n",
    "dataT['publishedAt'] = dataT['publishedAt'].dt.time\n",
    "dataT[['hour','min','sec']] = dataT['publishedAt'].astype(str).str.split(':', expand=True).astype(int)\n",
    "dataT['day']=pd.DatetimeIndex(dataT['publish_date']).day_name()"
   ]
  },
  {
   "cell_type": "code",
   "execution_count": null,
   "id": "d2bbf94d",
   "metadata": {},
   "outputs": [],
   "source": [
    "dataT.head()"
   ]
  },
  {
   "cell_type": "code",
   "execution_count": null,
   "id": "0f41d871",
   "metadata": {},
   "outputs": [],
   "source": [
    "print(\"Top 5 Days of the Week\")\n",
    "print(dataT['day'].value_counts()[:5])\n",
    "\n",
    "plt.figure(figsize = (14,9))\n",
    "\n",
    "plt.subplot(211)\n",
    "g = sb.countplot('day', data=dataT, palette=\"Set1\", order=[\"Sunday\",\"Monday\",\"Tuesday\",\"Wednesday\",\"Thursday\",\"Friday\",\"Saturday\"])\n",
    "g.set_xticklabels(g.get_xticklabels(),rotation=45)\n",
    "g.set_title(\"Days of the Week \", fontsize=20)\n",
    "g.set_xlabel(\"day\", fontsize=15)\n",
    "g.set_ylabel(\"Count\", fontsize=15)\n",
    "\n",
    "plt.show()"
   ]
  },
  {
   "cell_type": "markdown",
   "id": "7c821a1a",
   "metadata": {},
   "source": [
    "**Showing the most popular day where videos are posted for all the videos in the dataset**"
   ]
  },
  {
   "cell_type": "markdown",
   "id": "c8c81c67",
   "metadata": {},
   "source": [
    "<div style = \"color: Black; \n",
    "              display: fill;\n",
    "              border-radius: 15px;\n",
    "              background-color: #6abc1d;\">\n",
    "    <h2 id = \"top-10-categories\"\n",
    "        style = \"padding: 11px; \n",
    "                 text-align:center;\n",
    "                 color: White;\n",
    "                 font-size: 24px;\n",
    "                 font-weight: bold;\n",
    "                 font-family: Times New Roman;\">Displaying Most Number of Posts By Day Of The Week For Trending Videos\n",
    "    </h2>\n",
    "</div>"
   ]
  },
  {
   "cell_type": "code",
   "execution_count": null,
   "id": "53d19a40",
   "metadata": {},
   "outputs": [],
   "source": [
    "import warnings\n",
    "warnings.simplefilter(action=\"ignore\", category=FutureWarning)"
   ]
  },
  {
   "cell_type": "code",
   "execution_count": null,
   "id": "d07cab90",
   "metadata": {},
   "outputs": [],
   "source": [
    "from datetime import date"
   ]
  },
  {
   "cell_type": "code",
   "execution_count": null,
   "id": "a7235bce",
   "metadata": {},
   "outputs": [],
   "source": [
    "data = pd.read_csv('yt_dataset.csv')\n",
    "data.head()"
   ]
  },
  {
   "cell_type": "code",
   "execution_count": null,
   "id": "1ed04f22",
   "metadata": {},
   "outputs": [],
   "source": [
    "dataT_Trending=pd.DataFrame(data[['publishedAt','Trending']])"
   ]
  },
  {
   "cell_type": "code",
   "execution_count": null,
   "id": "94921d24",
   "metadata": {},
   "outputs": [],
   "source": [
    "dataT_Trending['publishedAt'] = pd.to_datetime(dataT_Trending['publishedAt'], format='%Y-%m-%dT%H:%M:%S.%f%Z')"
   ]
  },
  {
   "cell_type": "code",
   "execution_count": null,
   "id": "3c677bbb",
   "metadata": {},
   "outputs": [],
   "source": [
    "not_trending=dataT_Trending.index[dataT_Trending[\"Trending\"]==0].tolist()"
   ]
  },
  {
   "cell_type": "code",
   "execution_count": null,
   "id": "9e726a2f",
   "metadata": {},
   "outputs": [],
   "source": [
    "trending=dataT_Trending.drop(dataT_Trending.index[not_trending])"
   ]
  },
  {
   "cell_type": "code",
   "execution_count": null,
   "id": "9a105f3a",
   "metadata": {},
   "outputs": [],
   "source": [
    "trending.head()"
   ]
  },
  {
   "cell_type": "code",
   "execution_count": null,
   "id": "2541a953",
   "metadata": {},
   "outputs": [],
   "source": [
    "# separates date and time into two columns from 'publishedAt' column\n",
    "trending.insert(1, 'publish_date', trending['publishedAt'].dt.date)\n",
    "trending['publishedAt'] = trending['publishedAt'].dt.time\n",
    "trending[['hour','min','sec']] = trending['publishedAt'].astype(str).str.split(':', expand=True).astype(int)\n",
    "trending['day']=pd.DatetimeIndex(trending['publish_date']).day_name()"
   ]
  },
  {
   "cell_type": "code",
   "execution_count": null,
   "id": "065183ad",
   "metadata": {},
   "outputs": [],
   "source": [
    "print(\"Top 5 Days of the Week\")\n",
    "print(trending['day'].value_counts()[:5])\n",
    "\n",
    "plt.figure(figsize = (14,9))\n",
    "\n",
    "plt.subplot(211)\n",
    "g = sb.countplot('day', data=trending, palette=\"Set1\", order=[\"Sunday\",\"Monday\",\"Tuesday\",\"Wednesday\",\"Thursday\",\"Friday\",\"Saturday\"])\n",
    "g.set_xticklabels(g.get_xticklabels(),rotation=45)\n",
    "g.set_title(\"Days of the Week \", fontsize=20)\n",
    "g.set_xlabel(\"day\", fontsize=15)\n",
    "g.set_ylabel(\"Count\", fontsize=15)\n",
    "\n",
    "plt.show()"
   ]
  },
  {
   "cell_type": "markdown",
   "id": "31d322c4",
   "metadata": {},
   "source": [
    "**Showing the most popular day where videos are posted for trending videos only**"
   ]
  },
  {
   "cell_type": "markdown",
   "id": "446b5a65",
   "metadata": {},
   "source": [
    "<div style = \"color: Black; \n",
    "              display: fill;\n",
    "              border-radius: 15px;\n",
    "              background-color: #6abc1d;\">\n",
    "    <h2 id = \"top-10-categories\"\n",
    "        style = \"padding: 11px; \n",
    "                 text-align:center;\n",
    "                 color: White;\n",
    "                 font-size: 24px;\n",
    "                 font-weight: bold;\n",
    "                 font-family: Times New Roman;\">Decision Tree Model with Trending videos View Count\n",
    "    </h2>\n",
    "</div>"
   ]
  },
  {
   "cell_type": "code",
   "execution_count": null,
   "id": "d360510e",
   "metadata": {},
   "outputs": [],
   "source": [
    "from sklearn.tree import DecisionTreeClassifier\n",
    "from sklearn.model_selection import train_test_split\n",
    "from sklearn.metrics import confusion_matrix  \n",
    "from sklearn.metrics import mean_squared_error\n",
    "from sklearn.tree import plot_tree\n",
    "from sklearn.ensemble import RandomForestClassifier\n",
    "from sklearn import metrics  \n",
    "import warnings\n",
    "warnings.filterwarnings('ignore')"
   ]
  },
  {
   "cell_type": "code",
   "execution_count": null,
   "id": "f33c64a6",
   "metadata": {},
   "outputs": [],
   "source": [
    "# remove all likeCount values with 'None' aka. disabled the likes\n",
    "data = pd.read_csv('yt_dataset.csv')\n",
    "testData =  data\n",
    "testData.dtypes"
   ]
  },
  {
   "cell_type": "code",
   "execution_count": null,
   "id": "b5835987",
   "metadata": {},
   "outputs": [],
   "source": [
    "#Omit videos which are paid movies from dataset\n",
    "testData =  testData[testData[\"viewCount\"].str.contains(\"None\") == False]\n",
    "\n",
    "#Create titleCount as length of video title\n",
    "testData['titleCount'] = testData['title'].apply(lambda x: len(str(x)) if isinstance(x, str) else 0)\n",
    "\n",
    "#Create descriptionCount as length of video description\n",
    "testData['descriptionCount'] = testData['description'].apply(lambda x: len(str(x)) if isinstance(x, str) else 0)\n",
    "\n",
    "#Update videos with 'None' likes to 0 likes\n",
    "testData.loc[testData['likeCount'] == 'None', 'likeCount'] = 0\n",
    "\n",
    "#Update videos with 'None' comments to 0 comments\n",
    "testData.loc[testData['commentCount'] == 'None', 'commentCount'] = 0\n",
    "\n",
    "print(testData)"
   ]
  },
  {
   "cell_type": "code",
   "execution_count": null,
   "id": "55b498e0",
   "metadata": {},
   "outputs": [],
   "source": [
    "testData['viewCount'] = testData['viewCount'].astype('int64')\n",
    "testData['likeCount'] = testData['likeCount'].astype('int64')\n",
    "testData['commentCount'] = testData['commentCount'].astype('int64')\n",
    "testData.dtypes"
   ]
  },
  {
   "cell_type": "code",
   "execution_count": null,
   "id": "bae9f4ca",
   "metadata": {},
   "outputs": [],
   "source": [
    "def duration_to_seconds(duration_str):\n",
    "    # Remove \"PT\" prefix\n",
    "    duration_str = duration_str[2:]\n",
    "    \n",
    "    # Initialize hour, minute, and second components\n",
    "    hours = 0\n",
    "    minutes = 0\n",
    "    seconds = 0\n",
    "    \n",
    "    # Check for \"H\" component,hour\n",
    "    if \"H\" in duration_str:\n",
    "        hours_str, duration_str = duration_str.split(\"H\")\n",
    "        hours = int(hours_str)\n",
    "        \n",
    "    # Check for \"M\" component, minute\n",
    "    if \"M\" in duration_str:\n",
    "        minutes_str, duration_str = duration_str.split(\"M\")\n",
    "        minutes = int(minutes_str)\n",
    "        \n",
    "    # Remove \"S\" suffix, (seconds) and convert remaining string to int\n",
    "    if duration_str:\n",
    "        seconds = int(duration_str.rstrip(\"S\"))\n",
    "    \n",
    "    # Compute total duration in seconds\n",
    "    total_seconds = hours * 3600 + minutes * 60 + seconds\n",
    "    \n",
    "    return total_seconds\n"
   ]
  },
  {
   "cell_type": "code",
   "execution_count": null,
   "id": "c7b31d82",
   "metadata": {},
   "outputs": [],
   "source": [
    "print(testData['duration'])\n",
    "testData[\"duration\"] = testData[\"duration\"].apply(duration_to_seconds)\n",
    "print(testData['duration'])"
   ]
  },
  {
   "cell_type": "code",
   "execution_count": null,
   "id": "f259fc34",
   "metadata": {},
   "outputs": [],
   "source": [
    "#Does a longer description = higher chance of trending\n",
    "\n",
    "X = pd.DataFrame(testData[['viewCount', 'likeCount', 'descriptionCount','titleCount','duration','caption','commentCount']])\n",
    "trendingData = pd.DataFrame(testData[\"Trending\"])  # Response\n",
    "print(X)\n",
    "X.dtypes"
   ]
  },
  {
   "cell_type": "code",
   "execution_count": null,
   "id": "520d21c5",
   "metadata": {},
   "outputs": [],
   "source": [
    "# Do the 80:20 thing  \n",
    "X_train, X_test, y_train, y_test = train_test_split(X,trendingData,  test_size = 0.2)\n",
    "\n",
    "# Decision Tree using Train Data\n",
    "dectree = DecisionTreeClassifier(max_depth = 4)  # create the decision tree object\n",
    "dectree.fit(X_train, y_train)                    # train the decision tree model\n",
    "\n",
    "# Predict Legendary values corresponding to Total\n",
    "y_train_pred = dectree.predict(X_train)\n",
    "y_test_pred = dectree.predict(X_test)  \n",
    "  \n",
    "\n",
    "# Check the Goodness of Fit (on Train Data)\n",
    "print(\"Goodness of Fit of Model \\tTrain Dataset\")\n",
    "print(\"Classification Accuracy \\t:\", dectree.score(X_train, y_train))\n",
    "print()\n",
    "\n",
    "# Check the Goodness of Fit (on Test Data)\n",
    "print(\"Goodness of Fit of Model \\tTest Dataset\")\n",
    "print(\"Classification Accuracy \\t:\", dectree.score(X_test, y_test))\n",
    "print()\n",
    "    \n",
    "\n",
    "f = plt.figure(figsize=(22,12),dpi=500,)\n",
    "plot_tree(dectree, filled=True, rounded=True, fontsize=10,\n",
    "          feature_names=X_train.columns, \n",
    "          class_names=[\"N\",\"Y\"])\n",
    "\n",
    "# Plot the Confusion Matrix for Train and Test\n",
    "f, axes = plt.subplots(1, 2, figsize=(12, 4))\n",
    "sb.heatmap(confusion_matrix(y_train, y_train_pred),\n",
    "           annot = True, fmt=\".0f\", annot_kws={\"size\": 18}, ax = axes[0])\n",
    "sb.heatmap(confusion_matrix(y_test, y_test_pred), \n",
    "           annot = True, fmt=\".0f\", annot_kws={\"size\": 18}, ax = axes[1])\n"
   ]
  },
  {
   "cell_type": "code",
   "execution_count": null,
   "id": "7e309095",
   "metadata": {},
   "outputs": [],
   "source": [
    "feature_imp = pd.Series(dectree.feature_importances_, index = X.columns).sort_values(ascending = False)\n",
    "feature_imp"
   ]
  },
  {
   "cell_type": "markdown",
   "id": "58a0566f",
   "metadata": {},
   "source": [
    "<div style = \"color: Black; \n",
    "              display: fill;\n",
    "              border-radius: 15px;\n",
    "              background-color: #6abc1d;\">\n",
    "    <h2 id = \"top-10-categories\"\n",
    "        style = \"padding: 11px; \n",
    "                 text-align:center;\n",
    "                 color: White;\n",
    "                 font-size: 24px;\n",
    "                 font-weight: bold;\n",
    "                 font-family: Times New Roman;\">Random Forest Model with Trending videos View Count\n",
    "    </h2>\n",
    "</div>"
   ]
  },
  {
   "cell_type": "code",
   "execution_count": null,
   "id": "2baa4d06",
   "metadata": {},
   "outputs": [],
   "source": [
    "# Create a Random forest Classifier\n",
    "clf = RandomForestClassifier(n_estimators = 100)\n",
    "  \n",
    "# Train the model using the training sets\n",
    "clf.fit(X_train, y_train.values.ravel())\n",
    "  \n",
    "# performing predictions on the train dataset\n",
    "y_train_pred = clf.predict(X_train)\n",
    "\n",
    "# performing predictions on the test dataset\n",
    "y_test_pred = clf.predict(X_test)\n",
    "\n",
    "# Check the Goodness of Fit (on Train Data)\n",
    "print(\"Goodness of Fit of Model \\tTrain Dataset\")\n",
    "print(\"Classification Accuracy \\t:\", metrics.accuracy_score(y_train, y_train_pred))\n",
    "print()\n",
    "\n",
    "# Check the Goodness of Fit (on Test Data)\n",
    "print(\"Goodness of Fit of Model \\tTest Dataset\")\n",
    "print(\"Classification Accuracy \\t:\", metrics.accuracy_score(y_test, y_test_pred))\n",
    "print()\n",
    "\n",
    "\n",
    "# Plot the Confusion Matrix for Train and Test\n",
    "f, axes = plt.subplots(1, 2, figsize=(12, 4))\n",
    "sb.heatmap(confusion_matrix(y_train, y_train_pred),\n",
    "           annot = True, fmt=\".0f\", annot_kws={\"size\": 18}, ax = axes[0])\n",
    "sb.heatmap(confusion_matrix(y_test, y_test_pred), \n",
    "           annot = True, fmt=\".0f\", annot_kws={\"size\": 18}, ax = axes[1])"
   ]
  },
  {
   "cell_type": "code",
   "execution_count": null,
   "id": "34d7d28a",
   "metadata": {},
   "outputs": [],
   "source": [
    "feature_imp = pd.Series(clf.feature_importances_, index = X.columns).sort_values(ascending = False)\n",
    "feature_imp"
   ]
  },
  {
   "cell_type": "markdown",
   "id": "ecae5402",
   "metadata": {},
   "source": [
    "<div style = \"color: Black; \n",
    "              display: fill;\n",
    "              border-radius: 15px;\n",
    "              background-color: #6abc1d;\">\n",
    "    <h2 id = \"top-10-categories\"\n",
    "        style = \"padding: 11px; \n",
    "                 text-align:center;\n",
    "                 color: White;\n",
    "                 font-size: 24px;\n",
    "                 font-weight: bold;\n",
    "                 font-family: Times New Roman;\">Data Cleaning For Youtube Catergory Prediction Model\n",
    "    </h2>\n",
    "</div>"
   ]
  },
  {
   "cell_type": "code",
   "execution_count": null,
   "id": "651098d1",
   "metadata": {},
   "outputs": [],
   "source": [
    "import gc\n",
    "\n",
    "from tqdm import tqdm\n",
    "tqdm.pandas()\n",
    "\n",
    "import re,string,unicodedata\n",
    "from string import punctuation\n",
    "\n"
   ]
  },
  {
   "cell_type": "code",
   "execution_count": null,
   "id": "56390eb6",
   "metadata": {},
   "outputs": [],
   "source": [
    "def count_words(data):\n",
    "    \n",
    "    word_counter = 0\n",
    "    \n",
    "    for texts in data[\"title\"]:\n",
    "        for words in texts:  \n",
    "            word_counter = word_counter + 1\n",
    "        \n",
    "    return word_counter"
   ]
  },
  {
   "cell_type": "code",
   "execution_count": null,
   "id": "fb08807d",
   "metadata": {},
   "outputs": [],
   "source": [
    "before_data_cleaning = count_words(data)"
   ]
  },
  {
   "cell_type": "code",
   "execution_count": null,
   "id": "a0f9653d",
   "metadata": {},
   "outputs": [],
   "source": [
    "\n",
    "\n",
    "contraction_mapping = {\n",
    "    \"Trump's\" : 'trump is',\"'cause\": 'because',',cause': 'because',';cause': 'because',\"ain't\": 'am not','ain,t': 'am not',\n",
    "    'ain;t': 'am not','ain´t': 'am not','ain’t': 'am not',\"aren't\": 'are not',\n",
    "    'aren,t': 'are not','aren;t': 'are not','aren´t': 'are not','aren’t': 'are not',\"can't\": 'cannot',\"can't've\": 'cannot have','can,t': 'cannot','can,t,ve': 'cannot have',\n",
    "    'can;t': 'cannot','can;t;ve': 'cannot have',\n",
    "    'can´t': 'cannot','can´t´ve': 'cannot have','can’t': 'cannot','can’t’ve': 'cannot have',\n",
    "    \"could've\": 'could have','could,ve': 'could have','could;ve': 'could have',\"couldn't\": 'could not',\"couldn't've\": 'could not have','couldn,t': 'could not','couldn,t,ve': 'could not have','couldn;t': 'could not',\n",
    "    'couldn;t;ve': 'could not have','couldn´t': 'could not',\n",
    "    'couldn´t´ve': 'could not have','couldn’t': 'could not','couldn’t’ve': 'could not have','could´ve': 'could have',\n",
    "    'could’ve': 'could have',\"didn't\": 'did not','didn,t': 'did not','didn;t': 'did not','didn´t': 'did not',\n",
    "    'didn’t': 'did not',\"doesn't\": 'does not','doesn,t': 'does not','doesn;t': 'does not','doesn´t': 'does not',\n",
    "    'doesn’t': 'does not',\"don't\": 'do not','don,t': 'do not','don;t': 'do not','don´t': 'do not','don’t': 'do not',\n",
    "    \"hadn't\": 'had not',\"hadn't've\": 'had not have','hadn,t': 'had not','hadn,t,ve': 'had not have','hadn;t': 'had not',\n",
    "    'hadn;t;ve': 'had not have','hadn´t': 'had not','hadn´t´ve': 'had not have','hadn’t': 'had not','hadn’t’ve': 'had not have',\"hasn't\": 'has not','hasn,t': 'has not','hasn;t': 'has not','hasn´t': 'has not','hasn’t': 'has not',\n",
    "    \"haven't\": 'have not','haven,t': 'have not','haven;t': 'have not','haven´t': 'have not','haven’t': 'have not',\"he'd\": 'he would',\n",
    "    \"he'd've\": 'he would have',\"he'll\": 'he will',\n",
    "    \"he's\": 'he is','he,d': 'he would','he,d,ve': 'he would have','he,ll': 'he will','he,s': 'he is','he;d': 'he would',\n",
    "    'he;d;ve': 'he would have','he;ll': 'he will','he;s': 'he is','he´d': 'he would','he´d´ve': 'he would have','he´ll': 'he will',\n",
    "    'he´s': 'he is','he’d': 'he would','he’d’ve': 'he would have','he’ll': 'he will','he’s': 'he is',\"how'd\": 'how did',\"how'll\": 'how will',\n",
    "    \"how's\": 'how is','how,d': 'how did','how,ll': 'how will','how,s': 'how is','how;d': 'how did','how;ll': 'how will',\n",
    "    'how;s': 'how is','how´d': 'how did','how´ll': 'how will','how´s': 'how is','how’d': 'how did','how’ll': 'how will',\n",
    "    'how’s': 'how is',\"i'd\": 'i would',\"i'll\": 'i will',\"i'm\": 'i am',\"i've\": 'i have','i,d': 'i would','i,ll': 'i will',\n",
    "    'i,m': 'i am','i,ve': 'i have','i;d': 'i would','i;ll': 'i will','i;m': 'i am','i;ve': 'i have',\"isn't\": 'is not',\n",
    "    'isn,t': 'is not','isn;t': 'is not','isn´t': 'is not','isn’t': 'is not',\"it'd\": 'it would',\"it'll\": 'it will',\"It's\":'it is',\n",
    "    \"it's\": 'it is','it,d': 'it would','it,ll': 'it will','it,s': 'it is','it;d': 'it would','it;ll': 'it will','it;s': 'it is','it´d': 'it would','it´ll': 'it will','it´s': 'it is',\n",
    "    'it’d': 'it would','it’ll': 'it will','it’s': 'it is',\n",
    "    'i´d': 'i would','i´ll': 'i will','i´m': 'i am','i´ve': 'i have','i’d': 'i would','i’ll': 'i will','i’m': 'i am',\n",
    "    'i’ve': 'i have',\"let's\": 'let us','let,s': 'let us','let;s': 'let us','let´s': 'let us',\n",
    "    'let’s': 'let us',\"ma'am\": 'madam','ma,am': 'madam','ma;am': 'madam',\"mayn't\": 'may not','mayn,t': 'may not','mayn;t': 'may not',\n",
    "    'mayn´t': 'may not','mayn’t': 'may not','ma´am': 'madam','ma’am': 'madam',\"might've\": 'might have','might,ve': 'might have','might;ve': 'might have',\"mightn't\": 'might not','mightn,t': 'might not','mightn;t': 'might not','mightn´t': 'might not',\n",
    "    'mightn’t': 'might not','might´ve': 'might have','might’ve': 'might have',\"must've\": 'must have','must,ve': 'must have','must;ve': 'must have',\n",
    "    \"mustn't\": 'must not','mustn,t': 'must not','mustn;t': 'must not','mustn´t': 'must not','mustn’t': 'must not','must´ve': 'must have',\n",
    "    'must’ve': 'must have',\"needn't\": 'need not','needn,t': 'need not','needn;t': 'need not','needn´t': 'need not','needn’t': 'need not',\"oughtn't\": 'ought not','oughtn,t': 'ought not','oughtn;t': 'ought not',\n",
    "    'oughtn´t': 'ought not','oughtn’t': 'ought not',\"sha'n't\": 'shall not','sha,n,t': 'shall not','sha;n;t': 'shall not',\"shan't\": 'shall not',\n",
    "    'shan,t': 'shall not','shan;t': 'shall not','shan´t': 'shall not','shan’t': 'shall not','sha´n´t': 'shall not','sha’n’t': 'shall not',\n",
    "    \"she'd\": 'she would',\"she'll\": 'she will',\"she's\": 'she is','she,d': 'she would','she,ll': 'she will',\n",
    "    'she,s': 'she is','she;d': 'she would','she;ll': 'she will','she;s': 'she is','she´d': 'she would','she´ll': 'she will',\n",
    "    'she´s': 'she is','she’d': 'she would','she’ll': 'she will','she’s': 'she is',\"should've\": 'should have','should,ve': 'should have','should;ve': 'should have',\n",
    "    \"shouldn't\": 'should not','shouldn,t': 'should not','shouldn;t': 'should not','shouldn´t': 'should not','shouldn’t': 'should not','should´ve': 'should have',\n",
    "    'should’ve': 'should have',\"that'd\": 'that would',\"that's\": 'that is','that,d': 'that would','that,s': 'that is','that;d': 'that would',\n",
    "    'that;s': 'that is','that´d': 'that would','that´s': 'that is','that’d': 'that would','that’s': 'that is',\"there'd\": 'there had',\n",
    "    \"there's\": 'there is','there,d': 'there had','there,s': 'there is','there;d': 'there had','there;s': 'there is',\n",
    "    'there´d': 'there had','there´s': 'there is','there’d': 'there had','there’s': 'there is',\n",
    "    \"they'd\": 'they would',\"they'll\": 'they will',\"they're\": 'they are',\"they've\": 'they have',\n",
    "    'they,d': 'they would','they,ll': 'they will','they,re': 'they are','they,ve': 'they have','they;d': 'they would','they;ll': 'they will','they;re': 'they are',\n",
    "    'they;ve': 'they have','they´d': 'they would','they´ll': 'they will','they´re': 'they are','they´ve': 'they have','they’d': 'they would','they’ll': 'they will',\n",
    "    'they’re': 'they are','they’ve': 'they have',\"wasn't\": 'was not','wasn,t': 'was not','wasn;t': 'was not','wasn´t': 'was not',\n",
    "    'wasn’t': 'was not',\"we'd\": 'we would',\"we'll\": 'we will',\"we're\": 'we are',\"we've\": 'we have','we,d': 'we would','we,ll': 'we will',\n",
    "    'we,re': 'we are','we,ve': 'we have','we;d': 'we would','we;ll': 'we will','we;re': 'we are','we;ve': 'we have',\n",
    "    \"weren't\": 'were not','weren,t': 'were not','weren;t': 'were not','weren´t': 'were not','weren’t': 'were not','we´d': 'we would','we´ll': 'we will',\n",
    "    'we´re': 'we are','we´ve': 'we have','we’d': 'we would','we’ll': 'we will','we’re': 'we are','we’ve': 'we have',\"what'll\": 'what will',\"what're\": 'what are',\"what's\": 'what is',\n",
    "    \"what've\": 'what have','what,ll': 'what will','what,re': 'what are','what,s': 'what is','what,ve': 'what have','what;ll': 'what will','what;re': 'what are',\n",
    "    'what;s': 'what is','what;ve': 'what have','what´ll': 'what will',\n",
    "    'what´re': 'what are','what´s': 'what is','what´ve': 'what have','what’ll': 'what will','what’re': 'what are','what’s': 'what is',\n",
    "    'what’ve': 'what have',\"where'd\": 'where did',\"where's\": 'where is','where,d': 'where did','where,s': 'where is','where;d': 'where did',\n",
    "    'where;s': 'where is','where´d': 'where did','where´s': 'where is','where’d': 'where did','where’s': 'where is',\n",
    "    \"who'll\": 'who will',\"who's\": 'who is','who,ll': 'who will','who,s': 'who is','who;ll': 'who will','who;s': 'who is',\n",
    "    'who´ll': 'who will','who´s': 'who is','who’ll': 'who will','who’s': 'who is',\"won't\": 'will not','won,t': 'will not','won;t': 'will not',\n",
    "    'won´t': 'will not','won’t': 'will not',\"wouldn't\": 'would not','wouldn,t': 'would not','wouldn;t': 'would not','wouldn´t': 'would not',\n",
    "    'wouldn’t': 'would not',\"you'd\": 'you would',\"you'll\": 'you will',\"you're\": 'you are','you,d': 'you would','you,ll': 'you will',\n",
    "    'you,re': 'you are','you;d': 'you would','you;ll': 'you will',\n",
    "    'you;re': 'you are','you´d': 'you would','you´ll': 'you will','you´re': 'you are','you’d': 'you would','you’ll': 'you will','you’re': 'you are',\n",
    "    '´cause': 'because','’cause': 'because',\"you've\": \"you have\",\"could'nt\": 'could not',\n",
    "    \"havn't\": 'have not',\"here’s\": \"here is\",'i\"\"m': 'i am',\"i'am\": 'i am',\"i'l\": \"i will\",\"i'v\": 'i have',\"wan't\": 'want',\"was'nt\": \"was not\",\"who'd\": \"who would\",\n",
    "    \"who're\": \"who are\",\"who've\": \"who have\",\"why'd\": \"why would\",\"would've\": \"would have\",\"y'all\": \"you all\",\"y'know\": \"you know\",\"you.i\": \"you i\",\n",
    "    \"your'e\": \"you are\",\"arn't\": \"are not\",\"agains't\": \"against\",\"c'mon\": \"common\",\"doens't\": \"does not\",'don\"\"t': \"do not\",\"dosen't\": \"does not\",\n",
    "    \"dosn't\": \"does not\",\"shoudn't\": \"should not\",\"that'll\": \"that will\",\"there'll\": \"there will\",\"there're\": \"there are\",\n",
    "    \"this'll\": \"this all\",\"u're\": \"you are\", \"ya'll\": \"you all\",\"you'r\": \"you are\",\"you’ve\": \"you have\",\"d'int\": \"did not\",\"did'nt\": \"did not\",\"din't\": \"did not\",\"dont't\": \"do not\",\"gov't\": \"government\",\n",
    "    \"i'ma\": \"i am\",\"is'nt\": \"is not\",\"‘I\":'I',\n",
    "    'ᴀɴᴅ':'and','ᴛʜᴇ':'the','ʜᴏᴍᴇ':'home','ᴜᴘ':'up','ʙʏ':'by','ᴀᴛ':'at','…and':'and','civilbeat':'civil beat',\\\n",
    "    'TrumpCare':'Trump care','Trumpcare':'Trump care', 'OBAMAcare':'Obama care','ᴄʜᴇᴄᴋ':'check','ғᴏʀ':'for','ᴛʜɪs':'this','ᴄᴏᴍᴘᴜᴛᴇʀ':'computer',\\\n",
    "    'ᴍᴏɴᴛʜ':'month','ᴡᴏʀᴋɪɴɢ':'working','ᴊᴏʙ':'job','ғʀᴏᴍ':'from','Sᴛᴀʀᴛ':'start','gubmit':'submit','CO₂':'carbon dioxide','ғɪʀsᴛ':'first',\\\n",
    "    'ᴇɴᴅ':'end','ᴄᴀɴ':'can','ʜᴀᴠᴇ':'have','ᴛᴏ':'to','ʟɪɴᴋ':'link','ᴏғ':'of','ʜᴏᴜʀʟʏ':'hourly','ᴡᴇᴇᴋ':'week','ᴇɴᴅ':'end','ᴇxᴛʀᴀ':'extra',\\\n",
    "    'Gʀᴇᴀᴛ':'great','sᴛᴜᴅᴇɴᴛs':'student','sᴛᴀʏ':'stay','ᴍᴏᴍs':'mother','ᴏʀ':'or','ᴀɴʏᴏɴᴇ':'anyone','ɴᴇᴇᴅɪɴɢ':'needing','ᴀɴ':'an','ɪɴᴄᴏᴍᴇ':'income',\\\n",
    "    'ʀᴇʟɪᴀʙʟᴇ':'reliable','ғɪʀsᴛ':'first','ʏᴏᴜʀ':'your','sɪɢɴɪɴɢ':'signing','ʙᴏᴛᴛᴏᴍ':'bottom','ғᴏʟʟᴏᴡɪɴɢ':'following','Mᴀᴋᴇ':'make',\\\n",
    "    'ᴄᴏɴɴᴇᴄᴛɪᴏɴ':'connection','ɪɴᴛᴇʀɴᴇᴛ':'internet','financialpost':'financial post', 'ʜaᴠᴇ':' have ', 'ᴄaɴ':' can ', 'Maᴋᴇ':' make ', 'ʀᴇʟɪaʙʟᴇ':' reliable ', 'ɴᴇᴇᴅ':' need ',\n",
    "    'ᴏɴʟʏ':' only ', 'ᴇxᴛʀa':' extra ', 'aɴ':' an ', 'aɴʏᴏɴᴇ':' anyone ', 'sᴛaʏ':' stay ', 'Sᴛaʀᴛ':' start', 'SHOPO':'shop',\n",
    "    }\n",
    "mispell_dict = {'SB91':'senate bill','tRump':'trump','utmterm':'utm term','FakeNews':'fake news','Gʀᴇat':'great','ʙᴏᴛtoᴍ':'bottom','washingtontimes':'washington times','garycrum':'gary crum','htmlutmterm':'html utm term','RangerMC':'car','TFWs':'tuition fee waiver','SJWs':'social justice warrior','Koncerned':'concerned','Vinis':'vinys','Yᴏᴜ':'you','Trumpsters':'trump','Trumpian':'trump','bigly':'big league','Trumpism':'trump','Yoyou':'you','Auwe':'wonder','Drumpf':'trump','utmterm':'utm term','Brexit':'british exit','utilitas':'utilities','ᴀ':'a', '😉':'wink','😂':'joy','😀':'stuck out tongue', 'theguardian':'the guardian','deplorables':'deplorable', 'theglobeandmail':'the globe and mail', 'justiciaries': 'justiciary','creditdation': 'Accreditation','doctrne':'doctrine','fentayal': 'fentanyl','designation-': 'designation','CONartist' : 'con-artist','Mutilitated' : 'Mutilated','Obumblers': 'bumblers','negotiatiations': 'negotiations','dood-': 'dood','irakis' : 'iraki','cooerate': 'cooperate','COx':'cox','racistcomments':'racist comments','envirnmetalists': 'environmentalists',}\n",
    "\n",
    "special_punc_mappings = {\"—\": \"-\", \"–\": \"-\", \"_\": \"-\", '”': '\"', \"″\": '\"', '“': '\"', '•': '.', '−': '-',\n",
    "                         \"’\": \"'\", \"‘\": \"'\", \"´\": \"'\", \"`\": \"'\", '\\u200b': ' ', '\\xa0': ' ','،':'','„':'',\n",
    "                         '…': ' ... ', '\\ufeff': ''}\n",
    "\n",
    "spaces = ['\\u200b', '\\u200e', '\\u202a', '\\u202c', '\\ufeff', '\\uf0d8', '\\u2061', '\\x10', '\\x7f', '\\x9d', '\\xad', '\\xa0']\n",
    "\n",
    "rare_words_mapping = {' s.p ': ' ', ' S.P ': ' ', 'U.s.p': '', 'U.S.A.': 'USA', 'u.s.a.': 'USA', 'U.S.A': 'USA','u.s.a': 'USA', 'U.S.': 'USA', 'u.s.': 'USA', ' U.S ': ' USA ', ' u.s ': ' USA ', 'U.s.': 'USA',\n",
    "                      ' U.s ': 'USA', ' u.S ': ' USA ', 'fu.k': 'fuck', 'U.K.': 'UK', ' u.k ': ' UK ',' don t ': ' do not ', 'bacteries': 'batteries', ' yr old ': ' years old ', 'Ph.D': 'PhD',\n",
    "                      'cau.sing': 'causing', 'Kim Jong-Un': 'The president of North Korea', 'savegely': 'savagely',\n",
    "                      'Ra apist': 'Rapist', '2fifth': 'twenty fifth', '2third': 'twenty third','2nineth': 'twenty nineth', '2fourth': 'twenty fourth', '#metoo': 'MeToo',\n",
    "                      'Trumpcare': 'Trump health care system', '4fifth': 'forty fifth', 'Remainers': 'remainder',\n",
    "                      'Terroristan': 'terrorist', 'antibrahmin': 'anti brahmin','fuckboys': 'fuckboy', 'Fuckboys': 'fuckboy', 'Fuckboy': 'fuckboy', 'fuckgirls': 'fuck girls',\n",
    "                      'fuckgirl': 'fuck girl', 'Trumpsters': 'Trump supporters', '4sixth': 'forty sixth',\n",
    "                      'culturr': 'culture','weatern': 'western', '4fourth': 'forty fourth', 'emiratis': 'emirates', 'trumpers': 'Trumpster',\n",
    "                      'indans': 'indians', 'mastuburate': 'masturbate', 'f**k': 'fuck', 'F**k': 'fuck', 'F**K': 'fuck',\n",
    "                      ' u r ': ' you are ', ' u ': ' you ', '操你妈': 'fuck your mother', 'e.g.': 'for example',\n",
    "                      'i.e.': 'in other words', '...': '.', 'et.al': 'elsewhere', 'anti-Semitic': 'anti-semitic',\n",
    "                      'f***': 'fuck', 'f**': 'fuc', 'F***': 'fuck', 'F**': 'fuc','a****': 'assho', 'a**': 'ass', 'h***': 'hole', 'A****': 'assho', 'A**': 'ass', 'H***': 'hole',\n",
    "                      's***': 'shit', 's**': 'shi', 'S***': 'shit', 'S**': 'shi', 'Sh**': 'shit',\n",
    "                      'p****': 'pussy', 'p*ssy': 'pussy', 'P****': 'pussy','p***': 'porn', 'p*rn': 'porn', 'P***': 'porn',\n",
    "                      'st*up*id': 'stupid','d***': 'dick', 'di**': 'dick', 'h*ck': 'hack',\n",
    "                      'b*tch': 'bitch', 'bi*ch': 'bitch', 'bit*h': 'bitch', 'bitc*': 'bitch', 'b****': 'bitch',\n",
    "                      'b***': 'bitc', 'b**': 'bit', 'b*ll': 'bull'\n",
    "                      }\n",
    "extra_punct = [\n",
    "    ',', '.', '\"', ':', ')', '(', '!', '?', '|', ';', \"'\", '$', '&',\n",
    "    '/', '[', ']', '>', '%', '=', '#', '*', '+', '\\\\', '•',  '~', '@', '£',\n",
    "    '·', '_', '{', '}', '©', '^', '®', '`',  '<', '→', '°', '€', '™', '›',\n",
    "    '♥', '←', '×', '§', '″', '′', 'Â', '█', '½', 'à', '…', '“', '★', '”',\n",
    "    '–', '●', 'â', '►', '−', '¢', '²', '¬', '░', '¶', '↑', '±', '¿', '▾',\n",
    "    '═', '¦', '║', '―', '¥', '▓', '—', '‹', '─', '▒', '：', '¼', '⊕', '▼',\n",
    "    '▪', '†', '■', '’', '▀', '¨', '▄', '♫', '☆', 'é', '¯', '♦', '¤', '▲',\n",
    "    'è', '¸', '¾', 'Ã', '⋅', '‘', '∞', '∙', '）', '↓', '、', '│', '（', '»',\n",
    "    '，', '♪', '╩', '╚', '³', '・', '╦', '╣', '╔', '╗', '▬', '❤', 'ï', 'Ø',\n",
    "    '¹', '≤', '‡', '√', '«', '»', '´', 'º', '¾', '¡', '§', '£', '₤']\n",
    "\n"
   ]
  },
  {
   "cell_type": "code",
   "execution_count": null,
   "id": "8aa1eca0",
   "metadata": {},
   "outputs": [],
   "source": [
    "def remove_space(text):\n",
    "    \"\"\"\n",
    "    remove extra spaces and ending space if any\n",
    "    \"\"\"\n",
    "    for space in spaces:\n",
    "        text = text.replace(space, ' ')\n",
    "    text = text.strip()\n",
    "    text = re.sub('\\s+', ' ', text)\n",
    "    return text\n",
    "def clean_special_punctuations(text):\n",
    "    for punc in special_punc_mappings:\n",
    "        if punc in text:\n",
    "            text = text.replace(punc, special_punc_mappings[punc])\n",
    "    # remove_diacritics don´t' ->  'don t'\n",
    "    #text = remove_diacritics(text)\n",
    "    return text\n",
    "def clean_number(text):\n",
    "    text = re.sub(r'(\\d+)([a-zA-Z])', '\\g<1> \\g<2>', text)\n",
    "    text = re.sub(r'(\\d+) (th|st|nd|rd) ', '\\g<1>\\g<2> ', text)\n",
    "    text = re.sub(r'(\\d+),(\\d+)', '\\g<1>\\g<2>', text)\n",
    "    text = re.sub(r'(\\d+)(e)(\\d+)','\\g<1> \\g<3>', text)\n",
    "    \n",
    "    return text\n",
    "def pre_clean_rare_words(text):\n",
    "    for rare_word in rare_words_mapping:\n",
    "        if rare_word in text:\n",
    "            text = text.replace(rare_word, rare_words_mapping[rare_word])\n",
    "\n",
    "    return text\n",
    "def clean_misspell(text):\n",
    "    for bad_word in mispell_dict:\n",
    "        if bad_word in text:\n",
    "            text = text.replace(bad_word, mispell_dict[bad_word])\n",
    "    return text\n",
    "\n",
    "import string\n",
    "regular_punct = list(string.punctuation)\n",
    "all_punct = list(set(regular_punct + extra_punct))\n",
    "# do not spacing - and .\n",
    "all_punct.remove('-')\n",
    "all_punct.remove('.')\n",
    "\n",
    "def spacing_punctuation(text):\n",
    "    \"\"\"\n",
    "    add space before and after punctuation and symbols\n",
    "    \"\"\"\n",
    "    for punc in all_punct:\n",
    "        if punc in text:\n",
    "            text = text.replace(punc, f' {punc} ')\n",
    "    return text\n",
    "def clean_repeat_words(text):\n",
    "    \n",
    "    text = re.sub(r\"\\b(I|i)(I|i)+ng\\b\", \"ing\", text) #this one is causing few issues(fixed via monkey patching in other dicts for now), need to check it..\n",
    "    text = re.sub(r\"(-+|\\.+)\", \" \", text)\n",
    "    return text\n",
    "\n",
    "def correct_contraction(x, dic):\n",
    "    for word in dic.keys():\n",
    "        if word in x:\n",
    "            x = x.replace(word, dic[word])\n",
    "    return x\n",
    "\n",
    "def correct_spelling(x, dic):\n",
    "    for word in dic.keys():\n",
    "        if word in x:\n",
    "            x = x.replace(word, dic[word])\n",
    "    return x"
   ]
  },
  {
   "cell_type": "code",
   "execution_count": null,
   "id": "8cf13d0a",
   "metadata": {},
   "outputs": [],
   "source": [
    "def clean_text(text):\n",
    "    '''Make text lowercase, remove text in square brackets,remove links,remove punctuation\n",
    "    and remove words containing numbers.'''\n",
    "    text = str(text).lower()\n",
    "    text = re.sub('\\[.*?\\]', '', text)\n",
    "    text = re.sub('https?://\\S+|www\\.\\S+', '', text)\n",
    "    text = re.sub('<.*?>+',\"\", text)\n",
    "    text = re.sub('[%s]' % re.escape(string.punctuation), '', text)\n",
    "    text = re.sub('\\n', '', text)\n",
    "    text = re.sub('\\w*\\d\\w*', '', text)\n",
    "    text = re.sub('\\'','', text)\n",
    "    text = re.sub(r'(\\d+)([a-zA-Z])', '\\g<1> \\g<2>', text)\n",
    "    text = re.sub(r'(\\d+) (th|st|nd|rd) ', '\\g<1>\\g<2> ', text)\n",
    "    text = re.sub(r'(\\d+),(\\d+)', '\\g<1>\\g<2>', text)\n",
    "    text = re.sub(r'(\\d+)(e)(\\d+)','\\g<1> \\g<3>', text)\n",
    "    text = ''.join([c for c in text if c not in punctuation])\n",
    "    text = re.sub(r\"[^A-Za-z0-9]\", \" \", text)\n",
    "    text = re.sub(r\"what's\", \"\", text)\n",
    "    text = re.sub(r\"What's\", \"\", text)\n",
    "    text = re.sub(r\"\\'s\", \" \", text)\n",
    "    text = re.sub(r\"\\'ve\", \" have \", text)\n",
    "    text = re.sub(r\"can't\", \"cannot \", text)\n",
    "    text = re.sub(r\"n't\", \" not \", text)\n",
    "    text = re.sub(r\"I'm\", \"I am\", text)\n",
    "    text = re.sub(r\" m \", \" am \", text)\n",
    "    text = re.sub(r\"\\'re\", \" are \", text)\n",
    "    text = re.sub(r\"\\'d\", \" would \", text)\n",
    "    text = re.sub(r\"\\'ll\", \" will \", text)\n",
    "    text = re.sub(r\"60k\", \" 60000 \", text)\n",
    "    text = re.sub(r\" e g \", \" eg \", text)\n",
    "    text = re.sub(r\" b g \", \" bg \", text)\n",
    "    text = re.sub(r\"\\0s\", \"0\", text)\n",
    "    text = re.sub(r\" 9 11 \", \"911\", text)\n",
    "    text = re.sub(r\"e-mail\", \"email\", text)\n",
    "    text = re.sub(r\"\\s{2,}\", \" \", text)\n",
    "    text = re.sub(r\"quikly\", \"quickly\", text)\n",
    "    text = re.sub(r\" usa \", \" america \", text)\n",
    "    text = re.sub(r\" USA \", \" america \", text)\n",
    "    text = re.sub(r\" u s \", \" america \", text)\n",
    "    text = re.sub(r\" uk \", \" england \", text)\n",
    "    text = re.sub(r\" UK \", \" england \", text)\n",
    "    text = re.sub(r\"india\", \"india\", text)\n",
    "    text = re.sub(r\"switzerland\", \"switzerland\", text)\n",
    "    text = re.sub(r\"china\", \"china\", text)\n",
    "    text = re.sub(r\"chinese\", \"chinese\", text) \n",
    "    text = re.sub(r\"imrovement\", \"improvement\", text)\n",
    "    text = re.sub(r\"intially\", \"initially\", text)\n",
    "    text = re.sub(r\"quora\", \"quora\", text)\n",
    "    text = re.sub(r\" dms \", \"direct messages \", text)  \n",
    "    text = re.sub(r\"demonitization\", \"demonetization\", text) \n",
    "    text = re.sub(r\"actived\", \"active\", text)\n",
    "    text = re.sub(r\"kms\", \" kilometers \", text)\n",
    "    text = re.sub(r\"KMs\", \" kilometers \", text)\n",
    "    text = re.sub(r\" cs \", \" computer science \", text) \n",
    "    text = re.sub(r\" upvotes \", \" up votes \", text)\n",
    "    text = re.sub(r\" iPhone \", \" phone \", text)\n",
    "    text = re.sub(r\"\\0rs \", \" rs \", text) \n",
    "    text = re.sub(r\"calender\", \"calendar\", text)\n",
    "    text = re.sub(r\"ios\", \"operating system\", text)\n",
    "    text = re.sub(r\"gps\", \"GPS\", text)\n",
    "    text = re.sub(r\"gst\", \"GST\", text)\n",
    "    text = re.sub(r\"programing\", \"programming\", text)\n",
    "    text = re.sub(r\"bestfriend\", \"best friend\", text)\n",
    "    text = re.sub(r\"dna\", \"DNA\", text)\n",
    "    text = re.sub(r\"III\", \"3\", text) \n",
    "    text = re.sub(r\"the US\", \"america\", text)\n",
    "    text = re.sub(r\"Astrology\", \"astrology\", text)\n",
    "    text = re.sub(r\"Method\", \"method\", text)\n",
    "    text = re.sub(r\"Find\", \"find\", text) \n",
    "    text = re.sub(r\"banglore\", \"Banglore\", text)\n",
    "    text = re.sub(r\" J K \", \" JK \", text)\n",
    "    text = re.sub(r\" (W|w)hat+(s)*[A|a]*(p)+ \", \" WhatsApp \", text)\n",
    "    text = re.sub(r\" (W|w)hat\\S \", \" What \", text)\n",
    "    text = re.sub(r\" \\S(W|w)hat \", \" What \", text)\n",
    "    text = re.sub(r\" (W|w)hy\\S \", \" Why \", text)\n",
    "    text = re.sub(r\" \\S(W|w)hy \", \" Why \", text)\n",
    "    text = re.sub(r\" (H|h)ow\\S \", \" How \", text)\n",
    "    text = re.sub(r\" \\S(H|h)ow \", \" How \", text)\n",
    "    text = re.sub(r\" (W|w)hich\\S \", \" Which \", text)\n",
    "    text = re.sub(r\" \\S(W|w)hich \", \" Which \", text)\n",
    "    text = re.sub(r\" (W|w)here\\S \", \" Where \", text)\n",
    "    text = re.sub(r\" \\S(W|w)here \", \" Where \", text)\n",
    "    text = text.replace(\"What sApp\", ' WhatsApp ')\n",
    "    text = remove_space(text)    \n",
    "    text = re.sub(r\"minut\", \"Banglominutere\", text)\n",
    "    text = str(text).lower()\n",
    "    text = re.sub('\\[.*?\\]', '', text)\n",
    "    text = re.sub('https?://\\S+|www\\.\\S+', '', text)\n",
    "    text = re.sub('<.*?>+', '', text)\n",
    "    text = re.sub('[%s]' % re.escape(string.punctuation), '', text)\n",
    "    text = re.sub('\\n', '', text)\n",
    "    text = re.sub('\\w*\\d\\w*', '', text)\n",
    "    text = re.sub('\\'','', text)\n",
    "    text = re.sub(r\"(@\\[A-Za-z0-9]+)|([^0-9A-Za-z \\t])|(\\w+:\\/\\/\\S+)|^rt|http.+?\", \"\", text)\n",
    "    \n",
    "    \n",
    "    text = str(text).replace(' s ','').replace('…', ' ').replace('—','-').replace('•°•°•','') #should be broken down to regexs (lazy to do it haha)\n",
    "    for punct in \"/-'\":\n",
    "        if punct in text:\n",
    "            text = text.replace(punct, ' ')\n",
    "    for punct in '&':\n",
    "        if punct in text:\n",
    "            text = text.replace(punct, f' {punct} ')\n",
    "    for punct in '?!-,\"#$%\\'()*+-/:;<=>@[\\\\]^_`{|}~–—✰«»§✈➤›☭✔½☺éïà😏🤣😢😁🙄😃😄😊😜😎😆💙👍🤔😅😡▀▄·―═►♥▬' + '“”’': \n",
    "        #if we add . here then all the WEBPAGE LINKS WILL VANISH WE DON'T WANT THAT\n",
    "        if punct in text: #can be used a FE for emojis but here we are just removing them..\n",
    "            text = text.replace(punct, '')\n",
    "    for punct in '.•': #hence here it is\n",
    "        if punct in text:\n",
    "            text = text.replace(punct, f' ')\n",
    "        \n",
    "    text = re.sub(r'[\\x00-\\x1f\\x7f-\\x9f\\xad]', '', text)\n",
    "    text = re.sub(r'(\\d+)(e)(\\d+)',r'\\g<1> \\g<3>', text) #is a dup from above cell...\n",
    "    text = re.sub(r\"(-+|\\.+)\\s?\", \"  \", text)\n",
    "    text = re.sub(\"\\s\\s+\", \" \", text)\n",
    "    text = re.sub(r'ᴵ+', '', text)\n",
    "    \n",
    "    text = re.sub(r'(can|by|been|and|are|for|it|TV|already|justhow|some|had|is|will|would|should|shall|must|can|his|here|there|them|these|their|has|have|the|be|that|not|was|he|just|they|who)(how)', '\\g<1> \\g<2>', text) \n",
    "    return text\n",
    "#main_data['title'] = main_data['title'].progress_apply(lambda x:clean_text(x))\n",
    "gc.collect()\n",
    "#main_data"
   ]
  },
  {
   "cell_type": "code",
   "execution_count": null,
   "id": "9b1202c8",
   "metadata": {},
   "outputs": [],
   "source": []
  },
  {
   "cell_type": "code",
   "execution_count": null,
   "id": "87dfd301",
   "metadata": {},
   "outputs": [],
   "source": [
    "def preprocess(text):\n",
    "    \n",
    "    text = remove_space(text)\n",
    "    text = clean_special_punctuations(text)\n",
    "    text = clean_number(text)\n",
    "    text = pre_clean_rare_words(text)\n",
    "    text = clean_misspell(text)\n",
    "    text = spacing_punctuation(text)\n",
    "    text = clean_repeat_words(text)\n",
    "    text = remove_space(text)\n",
    "    text = clean_text(text)\n",
    "    return text\n",
    "\n",
    "data['title'] = data['title'].progress_apply(lambda x:preprocess(x))\n",
    "gc.collect()\n",
    "data"
   ]
  },
  {
   "cell_type": "code",
   "execution_count": null,
   "id": "6788b3e4",
   "metadata": {},
   "outputs": [],
   "source": [
    "after_data_cleaning_new = count_words(data)"
   ]
  },
  {
   "cell_type": "code",
   "execution_count": null,
   "id": "1445a6e7",
   "metadata": {},
   "outputs": [],
   "source": [
    "data[\"title\"].head()"
   ]
  },
  {
   "cell_type": "code",
   "execution_count": null,
   "id": "aa34cf70",
   "metadata": {},
   "outputs": [],
   "source": [
    "count_words(data)"
   ]
  },
  {
   "cell_type": "code",
   "execution_count": null,
   "id": "870b24dd",
   "metadata": {},
   "outputs": [],
   "source": [
    "fig = px.bar(x=[\"before_data_cleaning\",\"after_data_cleaning\"],y=[before_data_cleaning,after_data_cleaning_new])\n",
    "fig.show()"
   ]
  },
  {
   "cell_type": "markdown",
   "id": "66af67a1",
   "metadata": {},
   "source": [
    "<div style = \"color: Black; \n",
    "              display: fill;\n",
    "              border-radius: 15px;\n",
    "              background-color: #6abc1d;\">\n",
    "    <h2 id = \"top-10-categories\"\n",
    "        style = \"padding: 11px; \n",
    "                 text-align:center;\n",
    "                 color: White;\n",
    "                 font-size: 24px;\n",
    "                 font-weight: bold;\n",
    "                 font-family: Times New Roman;\">Using YouTube Trending page data to predict the category of a video given when given the title.\n",
    "    </h2>\n",
    "        <h2 id = \"top-10-categories\"\n",
    "        style = \"padding: 11px; \n",
    "                 text-align:center;\n",
    "                 color: White;\n",
    "                 font-size: 24px;\n",
    "                 font-weight: bold;\n",
    "                 font-family: Times New Roman;\">(Naive Bayes Machine Learning Algorithm, Initial Dataset)\n",
    "    </h2>\n",
    "\n",
    "</div>"
   ]
  },
  {
   "cell_type": "markdown",
   "id": "ed8330f5",
   "metadata": {},
   "source": [
    "**The Naive Bayes classifier is a supervised machine learning algorithm, which is used for classification tasks, like text classification.**"
   ]
  },
  {
   "cell_type": "markdown",
   "id": "b2329a13",
   "metadata": {},
   "source": [
    "# Part 1: Getting Data"
   ]
  },
  {
   "cell_type": "code",
   "execution_count": null,
   "id": "e7a545b0",
   "metadata": {},
   "outputs": [],
   "source": [
    "vids = pd.read_csv(\"yt_dataset(old).csv\", header=0)\n",
    "vids.head(3)"
   ]
  },
  {
   "cell_type": "code",
   "execution_count": null,
   "id": "4bd872f2",
   "metadata": {},
   "outputs": [],
   "source": [
    "keep_columns = ['title','categoryId']\n",
    "new_vids_old = vids[keep_columns]\n",
    "new_vids_old.to_csv(\"newvids(old).csv\", index=False)\n",
    "new_vids_old = pd.read_csv(\"newvids(old).csv\", header=0, names=['Title','Category_ID'])"
   ]
  },
  {
   "cell_type": "code",
   "execution_count": null,
   "id": "13e830fb",
   "metadata": {},
   "outputs": [],
   "source": [
    "new_vids_old.head(20)"
   ]
  },
  {
   "cell_type": "code",
   "execution_count": null,
   "id": "3ce2f6c2",
   "metadata": {},
   "outputs": [],
   "source": [
    "print(\"Data dims : \", new_vids_old.shape)"
   ]
  },
  {
   "cell_type": "code",
   "execution_count": null,
   "id": "2263f2c0",
   "metadata": {},
   "outputs": [],
   "source": [
    "Categories_JSON = pd.read_json(\"category_id.json\")\n",
    "Categories_JSON.head(3)"
   ]
  },
  {
   "cell_type": "code",
   "execution_count": null,
   "id": "55c5dddb",
   "metadata": {},
   "outputs": [],
   "source": [
    "CategoryDictionary = [{'id': item['id'], 'title': item['snippet']['title']} for item in Categories_JSON['items']]"
   ]
  },
  {
   "cell_type": "code",
   "execution_count": null,
   "id": "c5d31538",
   "metadata": {},
   "outputs": [],
   "source": [
    "CategoriesDF = pd.DataFrame(CategoryDictionary)\n",
    "Categories = CategoriesDF.rename(index=str, columns={\"id\": \"Category_ID\", \"title\": \"Category\"})\n",
    "Categories.head(3)"
   ]
  },
  {
   "cell_type": "markdown",
   "id": "bd487d50",
   "metadata": {},
   "source": [
    "# Part 2: Training "
   ]
  },
  {
   "cell_type": "code",
   "execution_count": null,
   "id": "57b107cb",
   "metadata": {},
   "outputs": [],
   "source": [
    "vector = CountVectorizer()\n",
    "counts = vector.fit_transform(new_vids_old['Title'].values)"
   ]
  },
  {
   "cell_type": "code",
   "execution_count": null,
   "id": "0303f0e5",
   "metadata": {},
   "outputs": [],
   "source": [
    "NB_Model = MultinomialNB()\n",
    "targets = new_vids_old['Category_ID'].values\n",
    "NB_Model.fit(counts,targets)"
   ]
  },
  {
   "cell_type": "code",
   "execution_count": null,
   "id": "ce16f99d",
   "metadata": {},
   "outputs": [],
   "source": [
    "X= counts\n",
    "y= targets\n",
    "X_train, X_test, y_train, y_test = train_test_split(X, y, test_size = .2)\n",
    "\n",
    "NBtest = MultinomialNB().fit(X_train, y_train)\n",
    "nb_predictions = NBtest.predict(X_test)\n",
    "acc_nb = NBtest.score(X_test, y_test)\n",
    "print('The Naive Bayes Algorithm using the old Dataset scored an accuracy of', acc_nb)"
   ]
  },
  {
   "cell_type": "markdown",
   "id": "236a6478",
   "metadata": {},
   "source": [
    "# Part 3: Testing Phase"
   ]
  },
  {
   "cell_type": "code",
   "execution_count": null,
   "id": "10d86589",
   "metadata": {},
   "outputs": [],
   "source": [
    "Titles = [\"Hilarious cat plays with toy\",\n",
    "        \"Best Clothing Brand 2023\",\n",
    "        \"Olympics opening ceremony highlights\",\n",
    "        \"Dallas basketball game highlights\",\n",
    "        \"CNN world news on LKY\",\n",
    "        \"Police Chase in Hollywood\",\n",
    "        \"Ed Sheeran - Perfect (Official Music Video)\",\n",
    "        \"cartoon network!\",\n",
    "        \"Maplestory Play now\"\n",
    "         ]"
   ]
  },
  {
   "cell_type": "code",
   "execution_count": null,
   "id": "2baf89a9",
   "metadata": {},
   "outputs": [],
   "source": [
    "Titles_counts = vector.transform(Titles)\n",
    "Predict = NB_Model.predict(Titles_counts)\n",
    "Predict"
   ]
  },
  {
   "cell_type": "code",
   "execution_count": null,
   "id": "8e842bb8",
   "metadata": {},
   "outputs": [],
   "source": [
    "CategoryNamesList = []\n",
    "for Category_ID in Predict:\n",
    "    MatchingCategories = [x for x in CategoryDictionary if x[\"id\"] == str(Category_ID)]\n",
    "    if MatchingCategories:\n",
    "        CategoryNamesList.append(MatchingCategories[0][\"title\"])"
   ]
  },
  {
   "cell_type": "code",
   "execution_count": null,
   "id": "64d89151",
   "metadata": {},
   "outputs": [],
   "source": [
    "TitleDataFrame = []\n",
    "for i in range(0, len(Titles)):\n",
    "    TitleToCategories = {'Category': CategoryNamesList[i],'Title': Titles[i]}\n",
    "    TitleDataFrame.append(TitleToCategories)"
   ]
  },
  {
   "cell_type": "code",
   "execution_count": null,
   "id": "d2ca5b9c",
   "metadata": {},
   "outputs": [],
   "source": [
    "PredictDF = pd.DataFrame(Predict)\n",
    "TitleDF = pd.DataFrame(TitleDataFrame)\n",
    "PreFinalDF = pd.concat([PredictDF, TitleDF], axis=1)\n",
    "PreFinalDF.columns = (['Categ_ID', 'Predicted Category', 'Hypothetical Video Title'])\n",
    "FinalDF = PreFinalDF.drop(['Categ_ID'],axis=1)\n",
    "cols = FinalDF.columns.tolist()\n",
    "cols = cols[-1:] + cols[:-1]\n",
    "FinalDF= FinalDF[cols]"
   ]
  },
  {
   "cell_type": "markdown",
   "id": "c2bf54cc",
   "metadata": {},
   "source": [
    "# Prediction Results from hypothetical titles "
   ]
  },
  {
   "cell_type": "code",
   "execution_count": null,
   "id": "e76dbcde",
   "metadata": {},
   "outputs": [],
   "source": [
    "FinalDF"
   ]
  },
  {
   "cell_type": "markdown",
   "id": "58b7fea5",
   "metadata": {},
   "source": [
    "<div style = \"color: Black; \n",
    "              display: fill;\n",
    "              border-radius: 15px;\n",
    "              background-color: #6abc1d;\">\n",
    "    <h2 id = \"top-10-categories\"\n",
    "        style = \"padding: 11px; \n",
    "                 text-align:center;\n",
    "                 color: White;\n",
    "                 font-size: 24px;\n",
    "                 font-weight: bold;\n",
    "                 font-family: Times New Roman;\">Using YouTube Trending page data to predict the category of a video given when given the title.\n",
    "    </h2>\n",
    "        <h2 id = \"top-10-categories\"\n",
    "        style = \"padding: 11px; \n",
    "                 text-align:center;\n",
    "                 color: White;\n",
    "                 font-size: 24px;\n",
    "                 font-weight: bold;\n",
    "                 font-family: Times New Roman;\">(Naive Bayes Machine Learning Algorithm, Addition of more data entries)\n",
    "    </h2>\n",
    "\n",
    "</div>"
   ]
  },
  {
   "cell_type": "markdown",
   "id": "346d0fd9",
   "metadata": {},
   "source": [
    "**The Naive Bayes classifier is a supervised machine learning algorithm, which is used for classification tasks, like text classification.**"
   ]
  },
  {
   "cell_type": "markdown",
   "id": "90998b8a",
   "metadata": {},
   "source": [
    "# Part 1: Getting Data"
   ]
  },
  {
   "cell_type": "code",
   "execution_count": null,
   "id": "2c1bffae",
   "metadata": {},
   "outputs": [],
   "source": [
    "vids = pd.read_csv(\"yt_dataset.csv\", header=0)\n",
    "vids.head(3)"
   ]
  },
  {
   "cell_type": "code",
   "execution_count": null,
   "id": "f135a6e0",
   "metadata": {},
   "outputs": [],
   "source": [
    "keep_columns = ['title','categoryId']\n",
    "new_vids = vids[keep_columns]\n",
    "new_vids.to_csv(\"newvids.csv\", index=False)\n",
    "new_vids = pd.read_csv(\"newvids.csv\", header=0, names=['Title','Category_ID'])"
   ]
  },
  {
   "cell_type": "code",
   "execution_count": null,
   "id": "247e9dfb",
   "metadata": {},
   "outputs": [],
   "source": [
    "new_vids.head(20)"
   ]
  },
  {
   "cell_type": "code",
   "execution_count": null,
   "id": "866ab3f2",
   "metadata": {},
   "outputs": [],
   "source": [
    "print(\"Data dims : \", new_vids.shape)"
   ]
  },
  {
   "cell_type": "code",
   "execution_count": null,
   "id": "962f6cfd",
   "metadata": {},
   "outputs": [],
   "source": [
    "Categories_JSON = pd.read_json(\"category_id.json\")\n",
    "Categories_JSON.head(3)"
   ]
  },
  {
   "cell_type": "code",
   "execution_count": null,
   "id": "74b3b2fd",
   "metadata": {},
   "outputs": [],
   "source": [
    "CategoryDictionary = [{'id': item['id'], 'title': item['snippet']['title']} for item in Categories_JSON['items']]"
   ]
  },
  {
   "cell_type": "code",
   "execution_count": null,
   "id": "0eff7f8d",
   "metadata": {},
   "outputs": [],
   "source": [
    "CategoriesDF = pd.DataFrame(CategoryDictionary)\n",
    "Categories = CategoriesDF.rename(index=str, columns={\"id\": \"Category_ID\", \"title\": \"Category\"})\n",
    "Categories.head(3)"
   ]
  },
  {
   "cell_type": "markdown",
   "id": "1a626f2b",
   "metadata": {},
   "source": [
    "# Part 2: Training"
   ]
  },
  {
   "cell_type": "code",
   "execution_count": null,
   "id": "3712a351",
   "metadata": {},
   "outputs": [],
   "source": [
    "vector = CountVectorizer()\n",
    "counts = vector.fit_transform(new_vids['Title'].values)"
   ]
  },
  {
   "cell_type": "code",
   "execution_count": null,
   "id": "aa682011",
   "metadata": {},
   "outputs": [],
   "source": [
    "NB_Model = MultinomialNB()\n",
    "targets = new_vids['Category_ID'].values\n",
    "NB_Model.fit(counts,targets)"
   ]
  },
  {
   "cell_type": "code",
   "execution_count": null,
   "id": "c992e482",
   "metadata": {},
   "outputs": [],
   "source": [
    "X= counts\n",
    "y= targets\n",
    "X_train, X_test, y_train, y_test = train_test_split(X, y, test_size = .2)\n",
    "\n",
    "NBtest = MultinomialNB().fit(X_train, y_train)\n",
    "nb_predictions = NBtest.predict(X_test)\n",
    "acc_nb = NBtest.score(X_test, y_test)\n",
    "print('The Naive Bayes Algorithm scored an accuracy of', acc_nb)"
   ]
  },
  {
   "cell_type": "markdown",
   "id": "f0505c3d",
   "metadata": {},
   "source": [
    "# Part 3: Testing Phase"
   ]
  },
  {
   "cell_type": "code",
   "execution_count": null,
   "id": "8cfa8dca",
   "metadata": {},
   "outputs": [],
   "source": [
    "Titles = [\"Hilarious cat plays with toy\",\n",
    "        \"Best Clothing Brand 2023\",\n",
    "        \"Olympics opening ceremony highlights\",\n",
    "        \"Dallas basketball game highlights\",\n",
    "        \"CNN world news on LKY\",\n",
    "        \"Police Chase in Hollywood\",\n",
    "        \"Ed Sheeran - Perfect (Official Music Video)\",\n",
    "        \"cartoon network!\",\n",
    "        \"Maplestory Play now\"\n",
    "         ]"
   ]
  },
  {
   "cell_type": "code",
   "execution_count": null,
   "id": "33fd8716",
   "metadata": {},
   "outputs": [],
   "source": [
    "Titles_counts = vector.transform(Titles)\n",
    "Predict = NB_Model.predict(Titles_counts)\n",
    "Predict"
   ]
  },
  {
   "cell_type": "code",
   "execution_count": null,
   "id": "b727f764",
   "metadata": {},
   "outputs": [],
   "source": [
    "CategoryNamesList = []\n",
    "for Category_ID in Predict:\n",
    "    MatchingCategories = [x for x in CategoryDictionary if x[\"id\"] == str(Category_ID)]\n",
    "    if MatchingCategories:\n",
    "        CategoryNamesList.append(MatchingCategories[0][\"title\"])"
   ]
  },
  {
   "cell_type": "code",
   "execution_count": null,
   "id": "39127f1d",
   "metadata": {},
   "outputs": [],
   "source": [
    "TitleDataFrame = []\n",
    "for i in range(0, len(Titles)):\n",
    "    TitleToCategories = {'Category': CategoryNamesList[i],'Title': Titles[i]}\n",
    "    TitleDataFrame.append(TitleToCategories)"
   ]
  },
  {
   "cell_type": "code",
   "execution_count": null,
   "id": "75f8c67d",
   "metadata": {},
   "outputs": [],
   "source": [
    "PredictDF = pd.DataFrame(Predict)\n",
    "TitleDF = pd.DataFrame(TitleDataFrame)\n",
    "PreFinalDF = pd.concat([PredictDF, TitleDF], axis=1)\n",
    "PreFinalDF.columns = (['Categ_ID', 'Predicted Category', 'Hypothetical Video Title'])\n",
    "FinalDF = PreFinalDF.drop(['Categ_ID'],axis=1)\n",
    "cols = FinalDF.columns.tolist()\n",
    "cols = cols[-1:] + cols[:-1]\n",
    "FinalDF= FinalDF[cols]"
   ]
  },
  {
   "cell_type": "markdown",
   "id": "7f574ee5",
   "metadata": {},
   "source": [
    "# Prediction Results from hypothetical titles"
   ]
  },
  {
   "cell_type": "code",
   "execution_count": null,
   "id": "fce10897",
   "metadata": {},
   "outputs": [],
   "source": [
    "FinalDF"
   ]
  },
  {
   "cell_type": "markdown",
   "id": "ac71212c",
   "metadata": {},
   "source": [
    "<div style = \"color: Black; \n",
    "              display: fill;\n",
    "              border-radius: 15px;\n",
    "              background-color: #6abc1d;\">\n",
    "    <h2 id = \"top-10-categories\"\n",
    "        style = \"padding: 11px; \n",
    "                 text-align:center;\n",
    "                 color: White;\n",
    "                 font-size: 24px;\n",
    "                 font-weight: bold;\n",
    "                 font-family: Times New Roman;\">Using YouTube Trending page data to predict the category of a video given when given the title.\n",
    "    </h2>\n",
    "        <h2 id = \"top-10-categories\"\n",
    "        style = \"padding: 11px; \n",
    "                 text-align:center;\n",
    "                 color: White;\n",
    "                 font-size: 24px;\n",
    "                 font-weight: bold;\n",
    "                 font-family: Times New Roman;\">(Naive Bayes Machine Learning Algorithm, Cleaned Data)\n",
    "    </h2>\n",
    "\n",
    "</div>"
   ]
  },
  {
   "cell_type": "markdown",
   "id": "a5bc1d3a",
   "metadata": {},
   "source": [
    "# Part 1: Getting Data"
   ]
  },
  {
   "cell_type": "code",
   "execution_count": null,
   "id": "bbf69272",
   "metadata": {},
   "outputs": [],
   "source": [
    "data.head()"
   ]
  },
  {
   "cell_type": "code",
   "execution_count": null,
   "id": "70780e53",
   "metadata": {},
   "outputs": [],
   "source": [
    "keep_columns = ['title','categoryId']\n",
    "new_vids_clean = data[keep_columns]\n",
    "new_vids_clean.to_csv(\"newvids_clean.csv\", index=False)\n",
    "new_vids_clean = pd.read_csv(\"newvids_clean.csv\", header=0, names=['Title','Category_ID'])\n",
    "new_vids_clean['Title'].replace(' ', np.nan, inplace=True)\n",
    "new_vids_clean.dropna(subset=['Title'], inplace=True)"
   ]
  },
  {
   "cell_type": "code",
   "execution_count": null,
   "id": "0dfaedb7",
   "metadata": {},
   "outputs": [],
   "source": [
    "new_vids_clean.head(20)"
   ]
  },
  {
   "cell_type": "code",
   "execution_count": null,
   "id": "37e53f07",
   "metadata": {},
   "outputs": [],
   "source": [
    "print(\"Data dims : \", new_vids_clean.shape)"
   ]
  },
  {
   "cell_type": "code",
   "execution_count": null,
   "id": "70d2aabd",
   "metadata": {},
   "outputs": [],
   "source": [
    "Categories_JSON = pd.read_json(\"category_id.json\")\n",
    "Categories_JSON.head(3)"
   ]
  },
  {
   "cell_type": "code",
   "execution_count": null,
   "id": "8a7c9608",
   "metadata": {},
   "outputs": [],
   "source": [
    "CategoryDictionary = [{'id': item['id'], 'title': item['snippet']['title']} for item in Categories_JSON['items']]"
   ]
  },
  {
   "cell_type": "code",
   "execution_count": null,
   "id": "e1f569a9",
   "metadata": {},
   "outputs": [],
   "source": [
    "CategoriesDF = pd.DataFrame(CategoryDictionary)\n",
    "Categories = CategoriesDF.rename(index=str, columns={\"id\": \"Category_ID\", \"title\": \"Category\"})\n",
    "Categories.head(3)"
   ]
  },
  {
   "cell_type": "markdown",
   "id": "010f94af",
   "metadata": {},
   "source": [
    "# Part 2: Training"
   ]
  },
  {
   "cell_type": "code",
   "execution_count": null,
   "id": "35abd7e8",
   "metadata": {},
   "outputs": [],
   "source": [
    "vector = CountVectorizer()\n",
    "counts = vector.fit_transform(new_vids_clean['Title'].values)"
   ]
  },
  {
   "cell_type": "code",
   "execution_count": null,
   "id": "4b5df51f",
   "metadata": {},
   "outputs": [],
   "source": [
    "NB_Model = MultinomialNB()\n",
    "targets = new_vids_clean['Category_ID'].values\n",
    "NB_Model.fit(counts,targets)"
   ]
  },
  {
   "cell_type": "code",
   "execution_count": null,
   "id": "109cd7f5",
   "metadata": {},
   "outputs": [],
   "source": [
    "X= counts\n",
    "y= targets\n",
    "X_train, X_test, y_train, y_test = train_test_split(X, y, test_size = .2)\n",
    "\n",
    "NBtest = MultinomialNB().fit(X_train, y_train)\n",
    "nb_predictions = NBtest.predict(X_test)\n",
    "acc_nb = NBtest.score(X_test, y_test)\n",
    "print('The Naive Bayes Algorithm with the Cleaned Dataset scored an accuracy of', acc_nb)"
   ]
  },
  {
   "cell_type": "markdown",
   "id": "7766e106",
   "metadata": {},
   "source": [
    "# Part 3: Testing Phase"
   ]
  },
  {
   "cell_type": "code",
   "execution_count": null,
   "id": "d19a1330",
   "metadata": {},
   "outputs": [],
   "source": [
    "Titles = [\"Hilarious cat plays with toy\",\n",
    "        \"Best Clothing Brand 2023\",\n",
    "        \"Olympics opening ceremony highlights\",\n",
    "        \"Dallas basketball game highlights\",\n",
    "        \"CNN world news on LKY\",\n",
    "        \"Police Chase in Hollywood\",\n",
    "        \"Ed Sheeran - Perfect (Official Music Video)\",\n",
    "        \"cartoon network!\",\n",
    "        \"Maplestory Play now\"\n",
    "         ]"
   ]
  },
  {
   "cell_type": "code",
   "execution_count": null,
   "id": "b4c687ac",
   "metadata": {},
   "outputs": [],
   "source": [
    "Titles_counts = vector.transform(Titles)\n",
    "Predict = NB_Model.predict(Titles_counts)\n",
    "Predict"
   ]
  },
  {
   "cell_type": "code",
   "execution_count": null,
   "id": "dc396aa4",
   "metadata": {},
   "outputs": [],
   "source": [
    "CategoryNamesList = []\n",
    "for Category_ID in Predict:\n",
    "    MatchingCategories = [x for x in CategoryDictionary if x[\"id\"] == str(Category_ID)]\n",
    "    if MatchingCategories:\n",
    "        CategoryNamesList.append(MatchingCategories[0][\"title\"])"
   ]
  },
  {
   "cell_type": "code",
   "execution_count": null,
   "id": "f5325d0f",
   "metadata": {},
   "outputs": [],
   "source": [
    "TitleDataFrame = []\n",
    "for i in range(0, len(Titles)):\n",
    "    TitleToCategories = {'Category': CategoryNamesList[i],'Title': Titles[i]}\n",
    "    TitleDataFrame.append(TitleToCategories)"
   ]
  },
  {
   "cell_type": "code",
   "execution_count": null,
   "id": "be8c88c0",
   "metadata": {},
   "outputs": [],
   "source": [
    "PredictDF = pd.DataFrame(Predict)\n",
    "TitleDF = pd.DataFrame(TitleDataFrame)\n",
    "PreFinalDF = pd.concat([PredictDF, TitleDF], axis=1)\n",
    "PreFinalDF.columns = (['Categ_ID', 'Predicted Category', 'Hypothetical Video Title'])\n",
    "FinalDF = PreFinalDF.drop(['Categ_ID'],axis=1)\n",
    "cols = FinalDF.columns.tolist()\n",
    "cols = cols[-1:] + cols[:-1]\n",
    "FinalDF= FinalDF[cols]"
   ]
  },
  {
   "cell_type": "markdown",
   "id": "3d9b077c",
   "metadata": {},
   "source": [
    "# Prediction Results from hypothetical titles"
   ]
  },
  {
   "cell_type": "code",
   "execution_count": null,
   "id": "43f962c9",
   "metadata": {},
   "outputs": [],
   "source": [
    "FinalDF"
   ]
  },
  {
   "cell_type": "code",
   "execution_count": null,
   "id": "d9259c0f",
   "metadata": {},
   "outputs": [],
   "source": []
  }
 ],
 "metadata": {
  "kernelspec": {
   "display_name": "Python 3 (ipykernel)",
   "language": "python",
   "name": "python3"
  },
  "language_info": {
   "codemirror_mode": {
    "name": "ipython",
    "version": 3
   },
   "file_extension": ".py",
   "mimetype": "text/x-python",
   "name": "python",
   "nbconvert_exporter": "python",
   "pygments_lexer": "ipython3",
   "version": "3.10.9"
  }
 },
 "nbformat": 4,
 "nbformat_minor": 5
}
