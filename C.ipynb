{
 "cells": [
  {
   "cell_type": "markdown",
   "id": "d972e21e",
   "metadata": {},
   "source": [
    "<div style = \"color: Black; \n",
    "              display: fill;\n",
    "              border-radius: 20px;\n",
    "              background-color: #FF0000;\">\n",
    "    <h1 id = \"title\"\n",
    "        style = \"padding: 13px; \n",
    "                 text-align:center;\n",
    "                 color: White;\n",
    "                 font-size: 40px;\n",
    "                 font-weight: bold;\n",
    "                 font-family: Times New Roman;\">YouTube Video Analysis\n",
    "    </h1>\n",
    "</div>"
   ]
  },
  {
   "cell_type": "code",
   "execution_count": 1,
   "id": "de1bfbfc",
   "metadata": {},
   "outputs": [],
   "source": [
    "# Basic Libraries\n",
    "import numpy as np\n",
    "import pandas as pd\n",
    "import seaborn as sb\n",
    "import matplotlib.pyplot as plt # we only need pyplot\n",
    "import json\n",
    "\n",
    "from sklearn.linear_model import LinearRegression\n",
    "from sklearn.model_selection import train_test_split\n",
    "from sklearn.metrics import mean_squared_error\n",
    "\n",
    "sb.set() # set the default Seaborn style for graphics"
   ]
  },
  {
   "cell_type": "code",
   "execution_count": 2,
   "id": "a2e55f2e",
   "metadata": {},
   "outputs": [
    {
     "data": {
      "text/html": [
       "<div>\n",
       "<style scoped>\n",
       "    .dataframe tbody tr th:only-of-type {\n",
       "        vertical-align: middle;\n",
       "    }\n",
       "\n",
       "    .dataframe tbody tr th {\n",
       "        vertical-align: top;\n",
       "    }\n",
       "\n",
       "    .dataframe thead th {\n",
       "        text-align: right;\n",
       "    }\n",
       "</style>\n",
       "<table border=\"1\" class=\"dataframe\">\n",
       "  <thead>\n",
       "    <tr style=\"text-align: right;\">\n",
       "      <th></th>\n",
       "      <th>id</th>\n",
       "      <th>publishedAt</th>\n",
       "      <th>channelId</th>\n",
       "      <th>title</th>\n",
       "      <th>description</th>\n",
       "      <th>channelTitle</th>\n",
       "      <th>categoryId</th>\n",
       "      <th>duration</th>\n",
       "      <th>dimension</th>\n",
       "      <th>definition</th>\n",
       "      <th>caption</th>\n",
       "      <th>viewCount</th>\n",
       "      <th>likeCount</th>\n",
       "      <th>commentCount</th>\n",
       "      <th>Trending</th>\n",
       "    </tr>\n",
       "  </thead>\n",
       "  <tbody>\n",
       "    <tr>\n",
       "      <th>0</th>\n",
       "      <td>Gg-GxtjLjWs</td>\n",
       "      <td>2023-03-23T01:53:16Z</td>\n",
       "      <td>UCd_EkHbEutirFl_XSrg95kA</td>\n",
       "      <td>Refs just gave the Warriors a free bucket 🤣 #s...</td>\n",
       "      <td>✅ SUBSCRIBE, LIKE &amp; COMMENT!\\n----\\n📌 TikTok: ...</td>\n",
       "      <td>GD's Highlights</td>\n",
       "      <td>17</td>\n",
       "      <td>PT17S</td>\n",
       "      <td>2d</td>\n",
       "      <td>hd</td>\n",
       "      <td>False</td>\n",
       "      <td>75870</td>\n",
       "      <td>7801</td>\n",
       "      <td>168</td>\n",
       "      <td>0</td>\n",
       "    </tr>\n",
       "    <tr>\n",
       "      <th>1</th>\n",
       "      <td>FjSQkixKIbE</td>\n",
       "      <td>2023-03-20T09:00:11Z</td>\n",
       "      <td>UC_YEeUix2bvVOuLxEUw2SnQ</td>\n",
       "      <td>Vodro Ovodro | Bangla Natok | Sabuj, Rabina, I...</td>\n",
       "      <td>Vodro Ovodro - New Natok 2023 - Vodro Ovodro N...</td>\n",
       "      <td>Eagle Drama Series</td>\n",
       "      <td>24</td>\n",
       "      <td>PT26M59S</td>\n",
       "      <td>2d</td>\n",
       "      <td>hd</td>\n",
       "      <td>False</td>\n",
       "      <td>766521</td>\n",
       "      <td>20205</td>\n",
       "      <td>365</td>\n",
       "      <td>0</td>\n",
       "    </tr>\n",
       "    <tr>\n",
       "      <th>2</th>\n",
       "      <td>Ewo8tt6bgZU</td>\n",
       "      <td>2023-03-22T16:59:25Z</td>\n",
       "      <td>UCXuqSBlHAE6Xw-yeJA0Tunw</td>\n",
       "      <td>I THOUGHT I Wanted This</td>\n",
       "      <td>FlexiSpot’s Global Spring Sale is on now until...</td>\n",
       "      <td>Linus Tech Tips</td>\n",
       "      <td>28</td>\n",
       "      <td>PT19M36S</td>\n",
       "      <td>2d</td>\n",
       "      <td>hd</td>\n",
       "      <td>False</td>\n",
       "      <td>879553</td>\n",
       "      <td>37365</td>\n",
       "      <td>2430</td>\n",
       "      <td>0</td>\n",
       "    </tr>\n",
       "    <tr>\n",
       "      <th>3</th>\n",
       "      <td>sxWa7LTRvbo</td>\n",
       "      <td>2023-03-22T16:00:30Z</td>\n",
       "      <td>UC1sELGmy5jp5fQUugmuYlXQ</td>\n",
       "      <td>SNIFFER EGG HATCHING &amp; 10 YEAR OLD BUG GETS FI...</td>\n",
       "      <td>Minecraft Monthly returns for its second editi...</td>\n",
       "      <td>Minecraft</td>\n",
       "      <td>20</td>\n",
       "      <td>PT6M35S</td>\n",
       "      <td>2d</td>\n",
       "      <td>hd</td>\n",
       "      <td>True</td>\n",
       "      <td>350503</td>\n",
       "      <td>35101</td>\n",
       "      <td>2193</td>\n",
       "      <td>1</td>\n",
       "    </tr>\n",
       "    <tr>\n",
       "      <th>4</th>\n",
       "      <td>WBk4t14wG44</td>\n",
       "      <td>2023-03-20T13:30:44Z</td>\n",
       "      <td>UC-LPIU24bQXVljUXivKEeRQ</td>\n",
       "      <td>Saath Nibhaana Saathiya | साथ निभाना साथिया | ...</td>\n",
       "      <td>Click here to Subscribe *Star Plus* : https://...</td>\n",
       "      <td>StarPlus</td>\n",
       "      <td>24</td>\n",
       "      <td>PT6M11S</td>\n",
       "      <td>2d</td>\n",
       "      <td>hd</td>\n",
       "      <td>False</td>\n",
       "      <td>440395</td>\n",
       "      <td>3549</td>\n",
       "      <td>24</td>\n",
       "      <td>0</td>\n",
       "    </tr>\n",
       "  </tbody>\n",
       "</table>\n",
       "</div>"
      ],
      "text/plain": [
       "            id           publishedAt                 channelId  \\\n",
       "0  Gg-GxtjLjWs  2023-03-23T01:53:16Z  UCd_EkHbEutirFl_XSrg95kA   \n",
       "1  FjSQkixKIbE  2023-03-20T09:00:11Z  UC_YEeUix2bvVOuLxEUw2SnQ   \n",
       "2  Ewo8tt6bgZU  2023-03-22T16:59:25Z  UCXuqSBlHAE6Xw-yeJA0Tunw   \n",
       "3  sxWa7LTRvbo  2023-03-22T16:00:30Z  UC1sELGmy5jp5fQUugmuYlXQ   \n",
       "4  WBk4t14wG44  2023-03-20T13:30:44Z  UC-LPIU24bQXVljUXivKEeRQ   \n",
       "\n",
       "                                               title  \\\n",
       "0  Refs just gave the Warriors a free bucket 🤣 #s...   \n",
       "1  Vodro Ovodro | Bangla Natok | Sabuj, Rabina, I...   \n",
       "2                            I THOUGHT I Wanted This   \n",
       "3  SNIFFER EGG HATCHING & 10 YEAR OLD BUG GETS FI...   \n",
       "4  Saath Nibhaana Saathiya | साथ निभाना साथिया | ...   \n",
       "\n",
       "                                         description        channelTitle  \\\n",
       "0  ✅ SUBSCRIBE, LIKE & COMMENT!\\n----\\n📌 TikTok: ...     GD's Highlights   \n",
       "1  Vodro Ovodro - New Natok 2023 - Vodro Ovodro N...  Eagle Drama Series   \n",
       "2  FlexiSpot’s Global Spring Sale is on now until...     Linus Tech Tips   \n",
       "3  Minecraft Monthly returns for its second editi...           Minecraft   \n",
       "4  Click here to Subscribe *Star Plus* : https://...            StarPlus   \n",
       "\n",
       "   categoryId  duration dimension definition  caption viewCount likeCount  \\\n",
       "0          17     PT17S        2d         hd    False     75870      7801   \n",
       "1          24  PT26M59S        2d         hd    False    766521     20205   \n",
       "2          28  PT19M36S        2d         hd    False    879553     37365   \n",
       "3          20   PT6M35S        2d         hd     True    350503     35101   \n",
       "4          24   PT6M11S        2d         hd    False    440395      3549   \n",
       "\n",
       "  commentCount  Trending  \n",
       "0          168         0  \n",
       "1          365         0  \n",
       "2         2430         0  \n",
       "3         2193         1  \n",
       "4           24         0  "
      ]
     },
     "execution_count": 2,
     "metadata": {},
     "output_type": "execute_result"
    }
   ],
   "source": [
    "data = pd.read_csv('yt_dataset.csv')\n",
    "data.head()"
   ]
  },
  {
   "cell_type": "code",
   "execution_count": 3,
   "id": "d9b24701",
   "metadata": {},
   "outputs": [
    {
     "data": {
      "text/plain": [
       "(311, 15)"
      ]
     },
     "execution_count": 3,
     "metadata": {},
     "output_type": "execute_result"
    }
   ],
   "source": [
    "data.shape"
   ]
  },
  {
   "cell_type": "code",
   "execution_count": 4,
   "id": "4d153e39",
   "metadata": {},
   "outputs": [
    {
     "data": {
      "text/plain": [
       "id              object\n",
       "publishedAt     object\n",
       "channelId       object\n",
       "title           object\n",
       "description     object\n",
       "channelTitle    object\n",
       "categoryId       int64\n",
       "duration        object\n",
       "dimension       object\n",
       "definition      object\n",
       "caption           bool\n",
       "viewCount       object\n",
       "likeCount       object\n",
       "commentCount    object\n",
       "Trending         int64\n",
       "dtype: object"
      ]
     },
     "execution_count": 4,
     "metadata": {},
     "output_type": "execute_result"
    }
   ],
   "source": [
    "data.dtypes"
   ]
  },
  {
   "cell_type": "markdown",
   "id": "0acafd6d",
   "metadata": {},
   "source": [
    "<div style = \"color: Black; \n",
    "              display: fill;\n",
    "              border-radius: 15px;\n",
    "              background-color: #6abc1d;\">\n",
    "    <h2 id = \"top-10-categories\"\n",
    "        style = \"padding: 11px; \n",
    "                 text-align:center;\n",
    "                 color: White;\n",
    "                 font-size: 24px;\n",
    "                 font-weight: bold;\n",
    "                 font-family: Times New Roman;\">Top Trending Videos by Categories\n",
    "    </h2>\n",
    "</div>"
   ]
  },
  {
   "cell_type": "code",
   "execution_count": 5,
   "id": "727665d5",
   "metadata": {},
   "outputs": [],
   "source": [
    "main_data =pd.DataFrame(data[['title','categoryId','viewCount']])"
   ]
  },
  {
   "cell_type": "code",
   "execution_count": 6,
   "id": "88d2c5e7",
   "metadata": {},
   "outputs": [],
   "source": [
    "with open(\"category_id.json\") as f:\n",
    "    categories = json.load(f)[\"items\"]\n",
    "cat_dict = {}\n",
    "for cat in categories:\n",
    "    cat_dict[int(cat[\"id\"])] = cat[\"snippet\"][\"title\"]\n",
    "main_data['category_name'] = main_data['categoryId'].map(cat_dict)"
   ]
  },
  {
   "cell_type": "code",
   "execution_count": 7,
   "id": "81f28feb",
   "metadata": {},
   "outputs": [
    {
     "data": {
      "text/plain": [
       "Entertainment           94\n",
       "News & Politics         51\n",
       "Gaming                  36\n",
       "Sports                  27\n",
       "Music                   26\n",
       "People & Blogs          20\n",
       "Education               11\n",
       "Comedy                  10\n",
       "Film & Animation        10\n",
       "Autos & Vehicles         8\n",
       "Howto & Style            4\n",
       "Science & Technology     3\n",
       "Travel & Events          3\n",
       "Movies                   3\n",
       "Pets & Animals           2\n",
       "Shows                    1\n",
       "Name: category_name, dtype: int64"
      ]
     },
     "execution_count": 7,
     "metadata": {},
     "output_type": "execute_result"
    }
   ],
   "source": [
    "main_data['category_name'].value_counts()"
   ]
  },
  {
   "cell_type": "code",
   "execution_count": 8,
   "id": "c9495927",
   "metadata": {},
   "outputs": [
    {
     "data": {
      "image/png": "[encoded data removed]",
      "text/plain": [
       "<Figure size 1170x827 with 1 Axes>"
      ]
     },
     "metadata": {},
     "output_type": "display_data"
    }
   ],
   "source": [
    "sb.set(rc={'figure.figsize':(11.7,8.27)})\n",
    "sb.countplot(y = \"category_name\",data=main_data, order=main_data['category_name'].value_counts().index)\n",
    "plt.show()"
   ]
  },
  {
   "cell_type": "markdown",
   "id": "df69ea57",
   "metadata": {},
   "source": [
    "<div style = \"color: Black; \n",
    "              display: fill;\n",
    "              border-radius: 15px;\n",
    "              background-color: #6abc1d;\">\n",
    "    <h2 id = \"top-10-categories\"\n",
    "        style = \"padding: 11px; \n",
    "                 text-align:center;\n",
    "                 color: White;\n",
    "                 font-size: 24px;\n",
    "                 font-weight: bold;\n",
    "                 font-family: Times New Roman;\">Displaying Most Number of Posts By Hours\n",
    "    </h2>\n",
    "</div>"
   ]
  },
  {
   "cell_type": "code",
   "execution_count": 9,
   "id": "3b11cb25",
   "metadata": {},
   "outputs": [],
   "source": [
    "import warnings\n",
    "warnings.simplefilter(action=\"ignore\", category=FutureWarning)"
   ]
  },
  {
   "cell_type": "code",
   "execution_count": 10,
   "id": "e226b412",
   "metadata": {},
   "outputs": [
    {
     "data": {
      "text/html": [
       "<div>\n",
       "<style scoped>\n",
       "    .dataframe tbody tr th:only-of-type {\n",
       "        vertical-align: middle;\n",
       "    }\n",
       "\n",
       "    .dataframe tbody tr th {\n",
       "        vertical-align: top;\n",
       "    }\n",
       "\n",
       "    .dataframe thead th {\n",
       "        text-align: right;\n",
       "    }\n",
       "</style>\n",
       "<table border=\"1\" class=\"dataframe\">\n",
       "  <thead>\n",
       "    <tr style=\"text-align: right;\">\n",
       "      <th></th>\n",
       "      <th>id</th>\n",
       "      <th>publishedAt</th>\n",
       "      <th>channelId</th>\n",
       "      <th>title</th>\n",
       "      <th>description</th>\n",
       "      <th>channelTitle</th>\n",
       "      <th>categoryId</th>\n",
       "      <th>duration</th>\n",
       "      <th>dimension</th>\n",
       "      <th>definition</th>\n",
       "      <th>caption</th>\n",
       "      <th>viewCount</th>\n",
       "      <th>likeCount</th>\n",
       "      <th>commentCount</th>\n",
       "      <th>Trending</th>\n",
       "    </tr>\n",
       "  </thead>\n",
       "  <tbody>\n",
       "    <tr>\n",
       "      <th>0</th>\n",
       "      <td>Gg-GxtjLjWs</td>\n",
       "      <td>2023-03-23T01:53:16Z</td>\n",
       "      <td>UCd_EkHbEutirFl_XSrg95kA</td>\n",
       "      <td>Refs just gave the Warriors a free bucket 🤣 #s...</td>\n",
       "      <td>✅ SUBSCRIBE, LIKE &amp; COMMENT!\\n----\\n📌 TikTok: ...</td>\n",
       "      <td>GD's Highlights</td>\n",
       "      <td>17</td>\n",
       "      <td>PT17S</td>\n",
       "      <td>2d</td>\n",
       "      <td>hd</td>\n",
       "      <td>False</td>\n",
       "      <td>75870</td>\n",
       "      <td>7801</td>\n",
       "      <td>168</td>\n",
       "      <td>0</td>\n",
       "    </tr>\n",
       "    <tr>\n",
       "      <th>1</th>\n",
       "      <td>FjSQkixKIbE</td>\n",
       "      <td>2023-03-20T09:00:11Z</td>\n",
       "      <td>UC_YEeUix2bvVOuLxEUw2SnQ</td>\n",
       "      <td>Vodro Ovodro | Bangla Natok | Sabuj, Rabina, I...</td>\n",
       "      <td>Vodro Ovodro - New Natok 2023 - Vodro Ovodro N...</td>\n",
       "      <td>Eagle Drama Series</td>\n",
       "      <td>24</td>\n",
       "      <td>PT26M59S</td>\n",
       "      <td>2d</td>\n",
       "      <td>hd</td>\n",
       "      <td>False</td>\n",
       "      <td>766521</td>\n",
       "      <td>20205</td>\n",
       "      <td>365</td>\n",
       "      <td>0</td>\n",
       "    </tr>\n",
       "    <tr>\n",
       "      <th>2</th>\n",
       "      <td>Ewo8tt6bgZU</td>\n",
       "      <td>2023-03-22T16:59:25Z</td>\n",
       "      <td>UCXuqSBlHAE6Xw-yeJA0Tunw</td>\n",
       "      <td>I THOUGHT I Wanted This</td>\n",
       "      <td>FlexiSpot’s Global Spring Sale is on now until...</td>\n",
       "      <td>Linus Tech Tips</td>\n",
       "      <td>28</td>\n",
       "      <td>PT19M36S</td>\n",
       "      <td>2d</td>\n",
       "      <td>hd</td>\n",
       "      <td>False</td>\n",
       "      <td>879553</td>\n",
       "      <td>37365</td>\n",
       "      <td>2430</td>\n",
       "      <td>0</td>\n",
       "    </tr>\n",
       "    <tr>\n",
       "      <th>3</th>\n",
       "      <td>sxWa7LTRvbo</td>\n",
       "      <td>2023-03-22T16:00:30Z</td>\n",
       "      <td>UC1sELGmy5jp5fQUugmuYlXQ</td>\n",
       "      <td>SNIFFER EGG HATCHING &amp; 10 YEAR OLD BUG GETS FI...</td>\n",
       "      <td>Minecraft Monthly returns for its second editi...</td>\n",
       "      <td>Minecraft</td>\n",
       "      <td>20</td>\n",
       "      <td>PT6M35S</td>\n",
       "      <td>2d</td>\n",
       "      <td>hd</td>\n",
       "      <td>True</td>\n",
       "      <td>350503</td>\n",
       "      <td>35101</td>\n",
       "      <td>2193</td>\n",
       "      <td>1</td>\n",
       "    </tr>\n",
       "    <tr>\n",
       "      <th>4</th>\n",
       "      <td>WBk4t14wG44</td>\n",
       "      <td>2023-03-20T13:30:44Z</td>\n",
       "      <td>UC-LPIU24bQXVljUXivKEeRQ</td>\n",
       "      <td>Saath Nibhaana Saathiya | साथ निभाना साथिया | ...</td>\n",
       "      <td>Click here to Subscribe *Star Plus* : https://...</td>\n",
       "      <td>StarPlus</td>\n",
       "      <td>24</td>\n",
       "      <td>PT6M11S</td>\n",
       "      <td>2d</td>\n",
       "      <td>hd</td>\n",
       "      <td>False</td>\n",
       "      <td>440395</td>\n",
       "      <td>3549</td>\n",
       "      <td>24</td>\n",
       "      <td>0</td>\n",
       "    </tr>\n",
       "  </tbody>\n",
       "</table>\n",
       "</div>"
      ],
      "text/plain": [
       "            id           publishedAt                 channelId  \\\n",
       "0  Gg-GxtjLjWs  2023-03-23T01:53:16Z  UCd_EkHbEutirFl_XSrg95kA   \n",
       "1  FjSQkixKIbE  2023-03-20T09:00:11Z  UC_YEeUix2bvVOuLxEUw2SnQ   \n",
       "2  Ewo8tt6bgZU  2023-03-22T16:59:25Z  UCXuqSBlHAE6Xw-yeJA0Tunw   \n",
       "3  sxWa7LTRvbo  2023-03-22T16:00:30Z  UC1sELGmy5jp5fQUugmuYlXQ   \n",
       "4  WBk4t14wG44  2023-03-20T13:30:44Z  UC-LPIU24bQXVljUXivKEeRQ   \n",
       "\n",
       "                                               title  \\\n",
       "0  Refs just gave the Warriors a free bucket 🤣 #s...   \n",
       "1  Vodro Ovodro | Bangla Natok | Sabuj, Rabina, I...   \n",
       "2                            I THOUGHT I Wanted This   \n",
       "3  SNIFFER EGG HATCHING & 10 YEAR OLD BUG GETS FI...   \n",
       "4  Saath Nibhaana Saathiya | साथ निभाना साथिया | ...   \n",
       "\n",
       "                                         description        channelTitle  \\\n",
       "0  ✅ SUBSCRIBE, LIKE & COMMENT!\\n----\\n📌 TikTok: ...     GD's Highlights   \n",
       "1  Vodro Ovodro - New Natok 2023 - Vodro Ovodro N...  Eagle Drama Series   \n",
       "2  FlexiSpot’s Global Spring Sale is on now until...     Linus Tech Tips   \n",
       "3  Minecraft Monthly returns for its second editi...           Minecraft   \n",
       "4  Click here to Subscribe *Star Plus* : https://...            StarPlus   \n",
       "\n",
       "   categoryId  duration dimension definition  caption viewCount likeCount  \\\n",
       "0          17     PT17S        2d         hd    False     75870      7801   \n",
       "1          24  PT26M59S        2d         hd    False    766521     20205   \n",
       "2          28  PT19M36S        2d         hd    False    879553     37365   \n",
       "3          20   PT6M35S        2d         hd     True    350503     35101   \n",
       "4          24   PT6M11S        2d         hd    False    440395      3549   \n",
       "\n",
       "  commentCount  Trending  \n",
       "0          168         0  \n",
       "1          365         0  \n",
       "2         2430         0  \n",
       "3         2193         1  \n",
       "4           24         0  "
      ]
     },
     "execution_count": 10,
     "metadata": {},
     "output_type": "execute_result"
    }
   ],
   "source": [
    "data = pd.read_csv('yt_dataset.csv')\n",
    "data.head()"
   ]
  },
  {
   "cell_type": "code",
   "execution_count": 11,
   "id": "a774501c",
   "metadata": {},
   "outputs": [],
   "source": [
    "dataT=pd.DataFrame(data[['publishedAt']])"
   ]
  },
  {
   "cell_type": "code",
   "execution_count": 12,
   "id": "9ba49527",
   "metadata": {},
   "outputs": [],
   "source": [
    "dataT['publishedAt'] = pd.to_datetime(dataT['publishedAt'], format='%Y-%m-%dT%H:%M:%S.%f%Z')"
   ]
  },
  {
   "cell_type": "code",
   "execution_count": 13,
   "id": "b9af5cf1",
   "metadata": {},
   "outputs": [],
   "source": [
    "# separates date and time into two columns from 'publish_time' column\n",
    "dataT.insert(1, 'publish_date', dataT['publishedAt'].dt.date)\n",
    "dataT['publishedAt'] = dataT['publishedAt'].dt.time\n",
    "dataT[['hour','min','sec']] = dataT['publishedAt'].astype(str).str.split(':', expand=True).astype(int)"
   ]
  },
  {
   "cell_type": "code",
   "execution_count": 14,
   "id": "6c5e12ce",
   "metadata": {},
   "outputs": [
    {
     "name": "stdout",
     "output_type": "stream",
     "text": [
      "TOP 5 Hour values\n",
      "16    33\n",
      "17    23\n",
      "22    23\n",
      "13    21\n",
      "14    20\n",
      "Name: hour, dtype: int64\n"
     ]
    },
    {
     "data": {
      "image/png": "[encoded data removed]",
      "text/plain": [
       "<Figure size 1400x900 with 1 Axes>"
      ]
     },
     "metadata": {},
     "output_type": "display_data"
    }
   ],
   "source": [
    "print(\"TOP 5 Hour values\")\n",
    "print(dataT['hour'].value_counts()[:5])\n",
    "\n",
    "plt.figure(figsize = (14,9))\n",
    "\n",
    "plt.subplot(211)\n",
    "g = sb.countplot('hour', data=dataT, palette=\"Set1\")\n",
    "g.set_xticklabels(g.get_xticklabels(),rotation=45)\n",
    "g.set_title(\"Counting Hour \", fontsize=20)\n",
    "g.set_xlabel(\"Hours\", fontsize=15)\n",
    "g.set_ylabel(\"Count\", fontsize=15)\n",
    "\n",
    "\n",
    "plt.show()"
   ]
  },
  {
   "cell_type": "code",
   "execution_count": null,
   "id": "303015c2",
   "metadata": {},
   "outputs": [],
   "source": []
  }
 ],
 "metadata": {
  "kernelspec": {
   "display_name": "Python 3 (ipykernel)",
   "language": "python",
   "name": "python3"
  },
  "language_info": {
   "codemirror_mode": {
    "name": "ipython",
    "version": 3
   },
   "file_extension": ".py",
   "mimetype": "text/x-python",
   "name": "python",
   "nbconvert_exporter": "python",
   "pygments_lexer": "ipython3",
   "version": "3.9.13"
  }
 },
 "nbformat": 4,
 "nbformat_minor": 5
}
